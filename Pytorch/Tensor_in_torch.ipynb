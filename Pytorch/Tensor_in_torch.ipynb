{
  "nbformat": 4,
  "nbformat_minor": 0,
  "metadata": {
    "colab": {
      "provenance": []
    },
    "kernelspec": {
      "name": "python3",
      "display_name": "Python 3"
    },
    "language_info": {
      "name": "python"
    }
  },
  "cells": [
    {
      "cell_type": "code",
      "execution_count": 1,
      "metadata": {
        "colab": {
          "base_uri": "https://localhost:8080/",
          "height": 35
        },
        "id": "FQN-prevdV1m",
        "outputId": "9157ca78-2095-40ba-e722-1f9af6a609df"
      },
      "outputs": [
        {
          "output_type": "execute_result",
          "data": {
            "text/plain": [
              "'2.5.1+cu124'"
            ],
            "application/vnd.google.colaboratory.intrinsic+json": {
              "type": "string"
            }
          },
          "metadata": {},
          "execution_count": 1
        }
      ],
      "source": [
        "import torch\n",
        "torch.__version__"
      ]
    },
    {
      "cell_type": "markdown",
      "source": [
        "### ***scalar*** :"
      ],
      "metadata": {
        "id": "Y89zfOq6eN4k"
      }
    },
    {
      "cell_type": "code",
      "source": [
        "# create the variable in tensor this is the scalar\n",
        "scalar = torch.tensor(7)\n",
        "scalar"
      ],
      "metadata": {
        "colab": {
          "base_uri": "https://localhost:8080/"
        },
        "id": "7hpl5TrBdmt-",
        "outputId": "ea2abd6f-9c31-4f8a-d0f5-ce78615a2e63"
      },
      "execution_count": 2,
      "outputs": [
        {
          "output_type": "execute_result",
          "data": {
            "text/plain": [
              "tensor(7)"
            ]
          },
          "metadata": {},
          "execution_count": 2
        }
      ]
    },
    {
      "cell_type": "code",
      "source": [
        "# check the dismisson of varible\n",
        "scalar.ndim"
      ],
      "metadata": {
        "colab": {
          "base_uri": "https://localhost:8080/"
        },
        "id": "AEdW9L6Md--P",
        "outputId": "632a50cc-f0ff-45c7-c0ae-3e28e10bee32"
      },
      "execution_count": 3,
      "outputs": [
        {
          "output_type": "execute_result",
          "data": {
            "text/plain": [
              "0"
            ]
          },
          "metadata": {},
          "execution_count": 3
        }
      ]
    },
    {
      "cell_type": "code",
      "source": [
        "# check the itme of varible\n",
        "scalar.item()"
      ],
      "metadata": {
        "colab": {
          "base_uri": "https://localhost:8080/"
        },
        "id": "2BtGvj4deC-v",
        "outputId": "75b12f9e-08b9-4a3d-e632-6f76c984ab74"
      },
      "execution_count": 4,
      "outputs": [
        {
          "output_type": "execute_result",
          "data": {
            "text/plain": [
              "7"
            ]
          },
          "metadata": {},
          "execution_count": 4
        }
      ]
    },
    {
      "cell_type": "code",
      "source": [
        "# check the shape of data type\n",
        "scalar.shape"
      ],
      "metadata": {
        "colab": {
          "base_uri": "https://localhost:8080/"
        },
        "id": "8xt6GgH8eE9i",
        "outputId": "9607442d-251f-45e3-f99f-54aeedadbd6a"
      },
      "execution_count": 5,
      "outputs": [
        {
          "output_type": "execute_result",
          "data": {
            "text/plain": [
              "torch.Size([])"
            ]
          },
          "metadata": {},
          "execution_count": 5
        }
      ]
    },
    {
      "cell_type": "code",
      "source": [
        "# check the varible data type\n",
        "scalar.dtype"
      ],
      "metadata": {
        "colab": {
          "base_uri": "https://localhost:8080/"
        },
        "id": "JJXs8PdjeGs2",
        "outputId": "b05d2e92-00f8-4420-ecdf-f746827b030c"
      },
      "execution_count": 6,
      "outputs": [
        {
          "output_type": "execute_result",
          "data": {
            "text/plain": [
              "torch.int64"
            ]
          },
          "metadata": {},
          "execution_count": 6
        }
      ]
    },
    {
      "cell_type": "code",
      "source": [
        "# change the data type of varible\n",
        "scalar.to(torch.float32)"
      ],
      "metadata": {
        "colab": {
          "base_uri": "https://localhost:8080/"
        },
        "id": "l3flw3gFeLlq",
        "outputId": "98f3d5b0-0b56-4696-befd-8a7a83985e90"
      },
      "execution_count": 7,
      "outputs": [
        {
          "output_type": "execute_result",
          "data": {
            "text/plain": [
              "tensor(7.)"
            ]
          },
          "metadata": {},
          "execution_count": 7
        }
      ]
    },
    {
      "cell_type": "markdown",
      "source": [
        "### ***vector***:"
      ],
      "metadata": {
        "id": "Smx0YntVfMON"
      }
    },
    {
      "cell_type": "code",
      "source": [
        "# create the variable in tensor this is the vector\n",
        "vector = torch.tensor([7,7])\n",
        "vector"
      ],
      "metadata": {
        "colab": {
          "base_uri": "https://localhost:8080/"
        },
        "id": "8hgSpRp3eZf0",
        "outputId": "c600b807-f9e9-46b2-926a-9d639f21e59a"
      },
      "execution_count": 9,
      "outputs": [
        {
          "output_type": "execute_result",
          "data": {
            "text/plain": [
              "tensor([7, 7])"
            ]
          },
          "metadata": {},
          "execution_count": 9
        }
      ]
    },
    {
      "cell_type": "code",
      "source": [
        "# check the dismisson of vector\n",
        "vector.ndim"
      ],
      "metadata": {
        "colab": {
          "base_uri": "https://localhost:8080/"
        },
        "id": "GL95K7qNfZqd",
        "outputId": "934aad40-a9bc-48fb-f92f-c2d26f3bacda"
      },
      "execution_count": 10,
      "outputs": [
        {
          "output_type": "execute_result",
          "data": {
            "text/plain": [
              "1"
            ]
          },
          "metadata": {},
          "execution_count": 10
        }
      ]
    },
    {
      "cell_type": "code",
      "source": [
        "# check the shape of vector\n",
        "vector.shape"
      ],
      "metadata": {
        "colab": {
          "base_uri": "https://localhost:8080/"
        },
        "id": "kjA_aBymfiGG",
        "outputId": "0f79affe-84c3-4221-f7a3-9c36caad845d"
      },
      "execution_count": 11,
      "outputs": [
        {
          "output_type": "execute_result",
          "data": {
            "text/plain": [
              "torch.Size([2])"
            ]
          },
          "metadata": {},
          "execution_count": 11
        }
      ]
    },
    {
      "cell_type": "code",
      "source": [],
      "metadata": {
        "id": "MhMT0QRyf3V8"
      },
      "execution_count": null,
      "outputs": []
    },
    {
      "cell_type": "markdown",
      "source": [
        "### ***Matrix***:"
      ],
      "metadata": {
        "id": "-dPdYsDagO5T"
      }
    },
    {
      "cell_type": "code",
      "source": [
        "matrix = torch.tensor([[7,8],[9,10]])\n",
        "matrix"
      ],
      "metadata": {
        "colab": {
          "base_uri": "https://localhost:8080/"
        },
        "id": "UNyIPKMqgXAR",
        "outputId": "321f3ff7-844d-421b-88e6-3dca540db178"
      },
      "execution_count": 13,
      "outputs": [
        {
          "output_type": "execute_result",
          "data": {
            "text/plain": [
              "tensor([[ 7,  8],\n",
              "        [ 9, 10]])"
            ]
          },
          "metadata": {},
          "execution_count": 13
        }
      ]
    },
    {
      "cell_type": "code",
      "source": [
        "matrix.shape"
      ],
      "metadata": {
        "colab": {
          "base_uri": "https://localhost:8080/"
        },
        "id": "StPniVmHgbOB",
        "outputId": "deb1ae3f-2b08-478b-eda5-60a23400934a"
      },
      "execution_count": 14,
      "outputs": [
        {
          "output_type": "execute_result",
          "data": {
            "text/plain": [
              "torch.Size([2, 2])"
            ]
          },
          "metadata": {},
          "execution_count": 14
        }
      ]
    },
    {
      "cell_type": "code",
      "source": [
        "matrix.ndim"
      ],
      "metadata": {
        "colab": {
          "base_uri": "https://localhost:8080/"
        },
        "id": "VNFHbBUugfGq",
        "outputId": "c4d19c38-8bf7-4ffa-c663-7d863cac9158"
      },
      "execution_count": 15,
      "outputs": [
        {
          "output_type": "execute_result",
          "data": {
            "text/plain": [
              "2"
            ]
          },
          "metadata": {},
          "execution_count": 15
        }
      ]
    },
    {
      "cell_type": "markdown",
      "source": [
        "### ***Tensor With 3-D:***  \n",
        "**[2, 3, 3]**\n",
        "\n",
        "*   **`2`** Show the Number of matrix in Tensor\n",
        "*   **`3 and 3`** show the shape of the matrix in tensor"
      ],
      "metadata": {
        "id": "p2p0_EX7iudi"
      }
    },
    {
      "cell_type": "code",
      "source": [
        "tensor_ = torch.tensor([\n",
        "                          [[1,2,3],\n",
        "                           [4,5,6],\n",
        "                           [7,8,9]],\n",
        "                          [[0,1,2],\n",
        "                           [14,5,0],\n",
        "                           [72,80,9]]\n",
        "                         ])\n",
        "tensor_"
      ],
      "metadata": {
        "colab": {
          "base_uri": "https://localhost:8080/"
        },
        "id": "gbbOsFWCgiZ9",
        "outputId": "1ef387aa-e6ec-41d4-bb37-9881cfe6193f"
      },
      "execution_count": 32,
      "outputs": [
        {
          "output_type": "execute_result",
          "data": {
            "text/plain": [
              "tensor([[[ 1,  2,  3],\n",
              "         [ 4,  5,  6],\n",
              "         [ 7,  8,  9]],\n",
              "\n",
              "        [[ 0,  1,  2],\n",
              "         [14,  5,  0],\n",
              "         [72, 80,  9]]])"
            ]
          },
          "metadata": {},
          "execution_count": 32
        }
      ]
    },
    {
      "cell_type": "code",
      "source": [
        "tensor_.ndim"
      ],
      "metadata": {
        "colab": {
          "base_uri": "https://localhost:8080/"
        },
        "id": "R8aigO58jGn2",
        "outputId": "0cf663e0-d1d2-4b9d-8b47-2ac9da3107d5"
      },
      "execution_count": 33,
      "outputs": [
        {
          "output_type": "execute_result",
          "data": {
            "text/plain": [
              "3"
            ]
          },
          "metadata": {},
          "execution_count": 33
        }
      ]
    },
    {
      "cell_type": "code",
      "source": [
        "tensor_.shape"
      ],
      "metadata": {
        "colab": {
          "base_uri": "https://localhost:8080/"
        },
        "id": "kCnPOLiPjMO0",
        "outputId": "f5c9f2fc-9fbe-4238-b18b-666029befd16"
      },
      "execution_count": 34,
      "outputs": [
        {
          "output_type": "execute_result",
          "data": {
            "text/plain": [
              "torch.Size([2, 3, 3])"
            ]
          },
          "metadata": {},
          "execution_count": 34
        }
      ]
    },
    {
      "cell_type": "code",
      "source": [],
      "metadata": {
        "id": "aBqyMmxSjSjH"
      },
      "execution_count": null,
      "outputs": []
    },
    {
      "cell_type": "markdown",
      "source": [
        "#### ***Tensor With 4-D :***\n",
        "\n",
        "**`[2, 1, 3, 3]`**\n",
        "\n",
        "*  2 (1st dimension): Represents the total number of matrices within the 4D tensor. You have 2 main matrices.\n",
        "\n",
        "*  1 (2nd dimension): Indicates that each of the 2 main matrices contains 1 sub-matrix or layer. Think of it as having a single \"slice\" within each main matrix.\n",
        "\n",
        "*  3 and 3 (3rd and 4th dimensions): Define the shape or dimensions of the sub-matrices (and the main matrices as well). Each sub-matrix (and main matrix) is a 3x3 matrix.\n",
        "\n",
        "\n",
        "\n"
      ],
      "metadata": {
        "id": "Q4PIvWhHlThg"
      }
    },
    {
      "cell_type": "code",
      "source": [
        "tensor_4 = torch.tensor([[\n",
        "                          [[1,2,3],\n",
        "                           [4,5,6],\n",
        "                           [7,8,9]],\n",
        "                         ],[\n",
        "                          [[1,2,3],\n",
        "                           [4,5,6],\n",
        "                           [7,8,9]],\n",
        "                          ]\n",
        "                         ])\n",
        "tensor_4"
      ],
      "metadata": {
        "colab": {
          "base_uri": "https://localhost:8080/"
        },
        "id": "6XG67Nhmlcdv",
        "outputId": "8e6a3925-3e18-49b6-9a0b-def8e4fe6a9a"
      },
      "execution_count": 47,
      "outputs": [
        {
          "output_type": "execute_result",
          "data": {
            "text/plain": [
              "tensor([[[[1, 2, 3],\n",
              "          [4, 5, 6],\n",
              "          [7, 8, 9]]],\n",
              "\n",
              "\n",
              "        [[[1, 2, 3],\n",
              "          [4, 5, 6],\n",
              "          [7, 8, 9]]]])"
            ]
          },
          "metadata": {},
          "execution_count": 47
        }
      ]
    },
    {
      "cell_type": "code",
      "source": [
        "tensor_4.ndim"
      ],
      "metadata": {
        "colab": {
          "base_uri": "https://localhost:8080/"
        },
        "id": "_BTvUXlBnIBs",
        "outputId": "13d4ec02-fd3b-45d4-9076-9d8368fcbe92"
      },
      "execution_count": 48,
      "outputs": [
        {
          "output_type": "execute_result",
          "data": {
            "text/plain": [
              "4"
            ]
          },
          "metadata": {},
          "execution_count": 48
        }
      ]
    },
    {
      "cell_type": "code",
      "source": [
        "tensor_4.shape"
      ],
      "metadata": {
        "colab": {
          "base_uri": "https://localhost:8080/"
        },
        "id": "I-r_yXwCnLE4",
        "outputId": "d9115dff-50fd-4a91-ec5a-23585e9ec221"
      },
      "execution_count": 49,
      "outputs": [
        {
          "output_type": "execute_result",
          "data": {
            "text/plain": [
              "torch.Size([2, 1, 3, 3])"
            ]
          },
          "metadata": {},
          "execution_count": 49
        }
      ]
    },
    {
      "cell_type": "code",
      "source": [],
      "metadata": {
        "id": "10n9x3I2nbLS"
      },
      "execution_count": null,
      "outputs": []
    }
  ]
}