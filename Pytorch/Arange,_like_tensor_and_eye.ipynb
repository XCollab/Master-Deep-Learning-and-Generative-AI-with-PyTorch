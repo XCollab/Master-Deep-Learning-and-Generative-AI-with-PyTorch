{
  "nbformat": 4,
  "nbformat_minor": 0,
  "metadata": {
    "colab": {
      "provenance": []
    },
    "kernelspec": {
      "name": "python3",
      "display_name": "Python 3"
    },
    "language_info": {
      "name": "python"
    }
  },
  "cells": [
    {
      "cell_type": "code",
      "execution_count": 2,
      "metadata": {
        "colab": {
          "base_uri": "https://localhost:8080/",
          "height": 35
        },
        "id": "kbx-CSDLTWrP",
        "outputId": "484ff3bf-ae54-491d-ab16-00fedc692a23"
      },
      "outputs": [
        {
          "output_type": "execute_result",
          "data": {
            "text/plain": [
              "'2.5.1+cu124'"
            ],
            "application/vnd.google.colaboratory.intrinsic+json": {
              "type": "string"
            }
          },
          "metadata": {},
          "execution_count": 2
        }
      ],
      "source": [
        "import torch\n",
        "torch.__version__"
      ]
    },
    {
      "cell_type": "markdown",
      "source": [
        "#### ***Arange Tensor:***"
      ],
      "metadata": {
        "id": "y2sVOaBUT4wH"
      }
    },
    {
      "cell_type": "code",
      "source": [
        "print(torch.arange.__doc__)"
      ],
      "metadata": {
        "colab": {
          "base_uri": "https://localhost:8080/"
        },
        "id": "Ey6amLBGWLyq",
        "outputId": "26f93914-397a-4faa-97a9-719858f2c431"
      },
      "execution_count": 3,
      "outputs": [
        {
          "output_type": "stream",
          "name": "stdout",
          "text": [
            "\n",
            "arange(start=0, end, step=1, *, out=None, dtype=None, layout=torch.strided, device=None, requires_grad=False) -> Tensor\n",
            "\n",
            "Returns a 1-D tensor of size :math:`\\left\\lceil \\frac{\\text{end} - \\text{start}}{\\text{step}} \\right\\rceil`\n",
            "with values from the interval ``[start, end)`` taken with common difference\n",
            ":attr:`step` beginning from `start`.\n",
            "\n",
            "Note that non-integer :attr:`step` is subject to floating point rounding errors when\n",
            "comparing against :attr:`end`; to avoid inconsistency, we advise subtracting a small epsilon from :attr:`end`\n",
            "in such cases.\n",
            "\n",
            ".. math::\n",
            "    \\text{out}_{{i+1}} = \\text{out}_{i} + \\text{step}\n",
            "\n",
            "Args:\n",
            "    start (Number): the starting value for the set of points. Default: ``0``.\n",
            "    end (Number): the ending value for the set of points\n",
            "    step (Number): the gap between each pair of adjacent points. Default: ``1``.\n",
            "\n",
            "Keyword args:\n",
            "    out (Tensor, optional): the output tensor.\n",
            "    dtype (:class:`torch.dtype`, optional): the desired data type of returned tensor.\n",
            "        Default: if ``None``, uses a global default (see :func:`torch.set_default_dtype`). If `dtype` is not given, infer the data type from the other input\n",
            "        arguments. If any of `start`, `end`, or `stop` are floating-point, the\n",
            "        `dtype` is inferred to be the default dtype, see\n",
            "        :meth:`~torch.get_default_dtype`. Otherwise, the `dtype` is inferred to\n",
            "        be `torch.int64`.\n",
            "    layout (:class:`torch.layout`, optional): the desired layout of returned Tensor.\n",
            "        Default: ``torch.strided``.\n",
            "    device (:class:`torch.device`, optional): the desired device of returned tensor.\n",
            "        Default: if ``None``, uses the current device for the default tensor type\n",
            "        (see :func:`torch.set_default_device`). :attr:`device` will be the CPU\n",
            "        for CPU tensor types and the current CUDA device for CUDA tensor types.\n",
            "    requires_grad (bool, optional): If autograd should record operations on the\n",
            "        returned tensor. Default: ``False``.\n",
            "\n",
            "Example::\n",
            "\n",
            "    >>> torch.arange(5)\n",
            "    tensor([ 0,  1,  2,  3,  4])\n",
            "    >>> torch.arange(1, 4)\n",
            "    tensor([ 1,  2,  3])\n",
            "    >>> torch.arange(1, 2.5, 0.5)\n",
            "    tensor([ 1.0000,  1.5000,  2.0000])\n",
            "\n"
          ]
        }
      ]
    },
    {
      "cell_type": "code",
      "source": [
        "arange = torch.arange(start=10, end=20)\n",
        "print(arange)\n",
        "print(arange.dtype)\n",
        "print(arange.shape)\n",
        "print(arange.ndim)"
      ],
      "metadata": {
        "colab": {
          "base_uri": "https://localhost:8080/"
        },
        "id": "yCDobv40T4Zu",
        "outputId": "c652653a-8858-4988-9ca8-9ec4f8566fc2"
      },
      "execution_count": 4,
      "outputs": [
        {
          "output_type": "stream",
          "name": "stdout",
          "text": [
            "tensor([10, 11, 12, 13, 14, 15, 16, 17, 18, 19])\n",
            "torch.int64\n",
            "torch.Size([10])\n",
            "1\n"
          ]
        }
      ]
    },
    {
      "cell_type": "code",
      "source": [
        "arange = torch.arange(start=10, end=20, step=2)\n",
        "print(arange)\n",
        "print(arange.dtype)\n",
        "print(arange.shape)\n",
        "print(arange.ndim)"
      ],
      "metadata": {
        "colab": {
          "base_uri": "https://localhost:8080/"
        },
        "id": "ZRCkr2DgT0sG",
        "outputId": "6b4989f4-6f11-473b-9683-0989f82c911e"
      },
      "execution_count": 5,
      "outputs": [
        {
          "output_type": "stream",
          "name": "stdout",
          "text": [
            "tensor([10, 12, 14, 16, 18])\n",
            "torch.int64\n",
            "torch.Size([5])\n",
            "1\n"
          ]
        }
      ]
    },
    {
      "cell_type": "markdown",
      "source": [
        "#### ***Like_tensor:***"
      ],
      "metadata": {
        "id": "r8Wli9PZUAIX"
      }
    },
    {
      "cell_type": "code",
      "source": [
        "one_like = torch.ones_like(arange)  # You can also pass the matrix as an argument\n",
        "print(one_like)\n",
        "print(one_like.dtype)\n",
        "print(one_like.shape)\n",
        "print(one_like.ndim)"
      ],
      "metadata": {
        "colab": {
          "base_uri": "https://localhost:8080/"
        },
        "id": "E7QRGX_mUGyS",
        "outputId": "4215048b-da35-448d-cee4-ff32c76e1799"
      },
      "execution_count": 6,
      "outputs": [
        {
          "output_type": "stream",
          "name": "stdout",
          "text": [
            "tensor([1, 1, 1, 1, 1])\n",
            "torch.int64\n",
            "torch.Size([5])\n",
            "1\n"
          ]
        }
      ]
    },
    {
      "cell_type": "code",
      "source": [
        "zero_like = torch.zeros_like(arange)\n",
        "print(zero_like)\n",
        "print(zero_like.dtype)\n",
        "print(zero_like.shape)\n",
        "print(zero_like.ndim)"
      ],
      "metadata": {
        "colab": {
          "base_uri": "https://localhost:8080/"
        },
        "id": "DnROvZUMUHO3",
        "outputId": "07730264-d55b-43da-929b-d7b8e5ef0c98"
      },
      "execution_count": 7,
      "outputs": [
        {
          "output_type": "stream",
          "name": "stdout",
          "text": [
            "tensor([0, 0, 0, 0, 0])\n",
            "torch.int64\n",
            "torch.Size([5])\n",
            "1\n"
          ]
        }
      ]
    },
    {
      "cell_type": "code",
      "source": [
        "rand_like = torch.randn_like(arange, dtype=torch.float32)\n",
        "print(rand_like)\n",
        "print(rand_like.dtype)\n",
        "print(rand_like.shape)\n",
        "print(rand_like.ndim)"
      ],
      "metadata": {
        "colab": {
          "base_uri": "https://localhost:8080/"
        },
        "id": "dVuocSuMWxga",
        "outputId": "bdada34f-ad69-4b21-da4e-25341ca722e2"
      },
      "execution_count": 8,
      "outputs": [
        {
          "output_type": "stream",
          "name": "stdout",
          "text": [
            "tensor([ 0.0394, -0.4049, -0.9461,  1.3050,  0.7274])\n",
            "torch.float32\n",
            "torch.Size([5])\n",
            "1\n"
          ]
        }
      ]
    },
    {
      "cell_type": "code",
      "source": [
        "rand_like = torch.rand_like(arange, dtype=torch.float32)\n",
        "print(rand_like)\n",
        "print(rand_like.dtype)\n",
        "print(rand_like.shape)\n",
        "print(rand_like.ndim)"
      ],
      "metadata": {
        "colab": {
          "base_uri": "https://localhost:8080/"
        },
        "id": "fSc9k-vDX3KC",
        "outputId": "ae3b6fe8-9a8b-48dd-8a67-ed2756664570"
      },
      "execution_count": 9,
      "outputs": [
        {
          "output_type": "stream",
          "name": "stdout",
          "text": [
            "tensor([0.1137, 0.9217, 0.9928, 0.0398, 0.1176])\n",
            "torch.float32\n",
            "torch.Size([5])\n",
            "1\n"
          ]
        }
      ]
    },
    {
      "cell_type": "code",
      "source": [
        "full_like = torch.full(size=(2, 3), fill_value=5)  # the argument values fill with the fill_value\n",
        "print(full_like)\n",
        "print(full_like.dtype)\n",
        "print(full_like.shape)\n",
        "print(full_like.ndim)"
      ],
      "metadata": {
        "colab": {
          "base_uri": "https://localhost:8080/"
        },
        "id": "kPSiozmWqBlC",
        "outputId": "5539f4bd-878a-4560-8a13-bb8c49ac812d"
      },
      "execution_count": 19,
      "outputs": [
        {
          "output_type": "stream",
          "name": "stdout",
          "text": [
            "tensor([[5, 5, 5],\n",
            "        [5, 5, 5]])\n",
            "torch.int64\n",
            "torch.Size([2, 3])\n",
            "2\n"
          ]
        }
      ]
    },
    {
      "cell_type": "code",
      "source": [
        "full_like = torch.full_like(arange, fill_value=5)  # the argument values fill with the fill_value\n",
        "print(full_like)\n",
        "print(full_like.dtype)\n",
        "print(full_like.shape)\n",
        "print(full_like.ndim)"
      ],
      "metadata": {
        "colab": {
          "base_uri": "https://localhost:8080/"
        },
        "id": "cj9tHBLlYSnG",
        "outputId": "cdcaf373-9164-4eae-b100-4435a03ba87f"
      },
      "execution_count": 11,
      "outputs": [
        {
          "output_type": "stream",
          "name": "stdout",
          "text": [
            "tensor([5, 5, 5, 5, 5])\n",
            "torch.int64\n",
            "torch.Size([5])\n",
            "1\n"
          ]
        }
      ]
    },
    {
      "cell_type": "code",
      "source": [
        "print(torch.empty_like.__doc__)"
      ],
      "metadata": {
        "colab": {
          "base_uri": "https://localhost:8080/"
        },
        "id": "heWJOw5FZCa4",
        "outputId": "f9cf7199-b3ad-43ec-cdc1-e9e62851c988"
      },
      "execution_count": 12,
      "outputs": [
        {
          "output_type": "stream",
          "name": "stdout",
          "text": [
            "\n",
            "empty_like(input, *, dtype=None, layout=None, device=None, requires_grad=False, memory_format=torch.preserve_format) -> Tensor\n",
            "\n",
            "Returns an uninitialized tensor with the same size as :attr:`input`.\n",
            "``torch.empty_like(input)`` is equivalent to\n",
            "``torch.empty(input.size(), dtype=input.dtype, layout=input.layout, device=input.device)``.\n",
            "\n",
            ".. note::\n",
            "    If :func:`torch.use_deterministic_algorithms()` and\n",
            "    :attr:`torch.utils.deterministic.fill_uninitialized_memory` are both set to\n",
            "    ``True``, the output tensor is initialized to prevent any possible\n",
            "    nondeterministic behavior from using the data as an input to an operation.\n",
            "    Floating point and complex tensors are filled with NaN, and integer tensors\n",
            "    are filled with the maximum value.\n",
            "\n",
            "Args:\n",
            "    input (Tensor): the size of :attr:`input` will determine size of the output tensor.\n",
            "\n",
            "Keyword args:\n",
            "    dtype (:class:`torch.dtype`, optional): the desired data type of returned Tensor.\n",
            "        Default: if ``None``, defaults to the dtype of :attr:`input`.\n",
            "    layout (:class:`torch.layout`, optional): the desired layout of returned tensor.\n",
            "        Default: if ``None``, defaults to the layout of :attr:`input`.\n",
            "    device (:class:`torch.device`, optional): the desired device of returned tensor.\n",
            "        Default: if ``None``, defaults to the device of :attr:`input`.\n",
            "    requires_grad (bool, optional): If autograd should record operations on the\n",
            "        returned tensor. Default: ``False``.\n",
            "    memory_format (:class:`torch.memory_format`, optional): the desired memory format of\n",
            "        returned Tensor. Default: ``torch.preserve_format``.\n",
            "\n",
            "Example::\n",
            "\n",
            "    >>> a=torch.empty((2,3), dtype=torch.int32, device = 'cuda')\n",
            "    >>> torch.empty_like(a)\n",
            "    tensor([[0, 0, 0],\n",
            "            [0, 0, 0]], device='cuda:0', dtype=torch.int32)\n",
            "\n"
          ]
        }
      ]
    },
    {
      "cell_type": "markdown",
      "source": [
        "`torch.empty_like` is a PyTorch function that creates a new tensor with the same size, data type, and device as an existing tensor, but without initializing its elements to any specific values. This means the elements of the new tensor will contain `garbage` values."
      ],
      "metadata": {
        "id": "_M82VKdbZyjA"
      }
    },
    {
      "cell_type": "code",
      "source": [
        "empty = torch.empty(size=(2, 3))\n",
        "print(empty)\n",
        "print(empty.dtype)\n",
        "print(empty.shape)\n",
        "print(empty.ndim)"
      ],
      "metadata": {
        "colab": {
          "base_uri": "https://localhost:8080/"
        },
        "id": "lCJseMopZNhN",
        "outputId": "2ca5a617-049d-46fc-9244-587202c47009"
      },
      "execution_count": 13,
      "outputs": [
        {
          "output_type": "stream",
          "name": "stdout",
          "text": [
            "tensor([[1.6881e-33, 0.0000e+00, 1.6878e-33],\n",
            "        [0.0000e+00, 1.5540e-42, 3.4199e+16]])\n",
            "torch.float32\n",
            "torch.Size([2, 3])\n",
            "2\n"
          ]
        }
      ]
    },
    {
      "cell_type": "code",
      "source": [
        "empty_like =  torch.empty_like(empty)\n",
        "print(empty_like)\n",
        "print(empty_like.dtype)\n",
        "print(empty_like.shape)\n",
        "print(empty_like.ndim)"
      ],
      "metadata": {
        "colab": {
          "base_uri": "https://localhost:8080/"
        },
        "id": "cCLGRKtFY0s6",
        "outputId": "120a109a-b53d-43c7-b97e-8e9265111019"
      },
      "execution_count": 14,
      "outputs": [
        {
          "output_type": "stream",
          "name": "stdout",
          "text": [
            "tensor([[1.6894e-33, 0.0000e+00, 1.6911e-33],\n",
            "        [0.0000e+00, 8.9683e-44, 0.0000e+00]])\n",
            "torch.float32\n",
            "torch.Size([2, 3])\n",
            "2\n"
          ]
        }
      ]
    },
    {
      "cell_type": "code",
      "source": [
        "print(torch.randint_like.__doc__)"
      ],
      "metadata": {
        "colab": {
          "base_uri": "https://localhost:8080/"
        },
        "id": "zwDfu08EZ9hH",
        "outputId": "9e3681b5-ece0-462c-d757-607fee0781b1"
      },
      "execution_count": 15,
      "outputs": [
        {
          "output_type": "stream",
          "name": "stdout",
          "text": [
            "\n",
            "randint_like(input, low=0, high, \\*, dtype=None, layout=torch.strided, device=None, requires_grad=False, memory_format=torch.preserve_format) -> Tensor\n",
            "\n",
            "Returns a tensor with the same shape as Tensor :attr:`input` filled with\n",
            "random integers generated uniformly between :attr:`low` (inclusive) and\n",
            ":attr:`high` (exclusive).\n",
            "\n",
            ".. note:\n",
            "    With the global dtype default (``torch.float32``), this function returns\n",
            "    a tensor with dtype ``torch.int64``.\n",
            "\n",
            "Args:\n",
            "    input (Tensor): the size of :attr:`input` will determine size of the output tensor.\n",
            "    low (int, optional): Lowest integer to be drawn from the distribution. Default: 0.\n",
            "    high (int): One above the highest integer to be drawn from the distribution.\n",
            "\n",
            "Keyword args:\n",
            "    dtype (:class:`torch.dtype`, optional): the desired data type of returned Tensor.\n",
            "        Default: if ``None``, defaults to the dtype of :attr:`input`.\n",
            "    layout (:class:`torch.layout`, optional): the desired layout of returned tensor.\n",
            "        Default: if ``None``, defaults to the layout of :attr:`input`.\n",
            "    device (:class:`torch.device`, optional): the desired device of returned tensor.\n",
            "        Default: if ``None``, defaults to the device of :attr:`input`.\n",
            "    requires_grad (bool, optional): If autograd should record operations on the\n",
            "        returned tensor. Default: ``False``.\n",
            "    memory_format (:class:`torch.memory_format`, optional): the desired memory format of\n",
            "        returned Tensor. Default: ``torch.preserve_format``.\n",
            "\n",
            "\n"
          ]
        }
      ]
    },
    {
      "cell_type": "code",
      "source": [
        "randiant = torch.randint(low=0, high=10, size=(2, 3))\n",
        "print(randiant)\n",
        "print(randiant.dtype)\n",
        "print(randiant.shape)\n",
        "print(randiant.ndim)"
      ],
      "metadata": {
        "colab": {
          "base_uri": "https://localhost:8080/"
        },
        "id": "PPp_yLF-aMFy",
        "outputId": "7f8d8f83-fb84-4faf-fea1-0b6a532859e5"
      },
      "execution_count": 16,
      "outputs": [
        {
          "output_type": "stream",
          "name": "stdout",
          "text": [
            "tensor([[8, 0, 4],\n",
            "        [1, 0, 0]])\n",
            "torch.int64\n",
            "torch.Size([2, 3])\n",
            "2\n"
          ]
        }
      ]
    },
    {
      "cell_type": "code",
      "source": [
        "randiant_like = torch.randint_like(randiant, low=10, high=20)\n",
        "print(randiant_like)\n",
        "print(randiant_like.dtype)\n",
        "print(randiant_like.shape)\n",
        "print(randiant_like.ndim)"
      ],
      "metadata": {
        "colab": {
          "base_uri": "https://localhost:8080/"
        },
        "id": "ABcEXpS3aTBg",
        "outputId": "b413e170-ae30-483a-bf5d-3e3e68fcfa70"
      },
      "execution_count": 17,
      "outputs": [
        {
          "output_type": "stream",
          "name": "stdout",
          "text": [
            "tensor([[11, 19, 15],\n",
            "        [10, 13, 12]])\n",
            "torch.int64\n",
            "torch.Size([2, 3])\n",
            "2\n"
          ]
        }
      ]
    },
    {
      "cell_type": "markdown",
      "source": [
        "#### ***Eye:***"
      ],
      "metadata": {
        "id": "BaoqQIi5UH1Q"
      }
    },
    {
      "cell_type": "code",
      "source": [
        "eye = torch.eye(n=3)\n",
        "print(eye)\n",
        "print(eye.dtype)\n",
        "print(eye.shape)\n",
        "print(eye.ndim)"
      ],
      "metadata": {
        "colab": {
          "base_uri": "https://localhost:8080/"
        },
        "id": "Rbfq1y9XUM8h",
        "outputId": "39da0774-1bba-4e41-a454-7f62c450016d"
      },
      "execution_count": 18,
      "outputs": [
        {
          "output_type": "stream",
          "name": "stdout",
          "text": [
            "tensor([[1., 0., 0.],\n",
            "        [0., 1., 0.],\n",
            "        [0., 0., 1.]])\n",
            "torch.float32\n",
            "torch.Size([3, 3])\n",
            "2\n"
          ]
        }
      ]
    },
    {
      "cell_type": "code",
      "source": [],
      "metadata": {
        "id": "vFQ6Rrq_amJi"
      },
      "execution_count": 18,
      "outputs": []
    }
  ]
}