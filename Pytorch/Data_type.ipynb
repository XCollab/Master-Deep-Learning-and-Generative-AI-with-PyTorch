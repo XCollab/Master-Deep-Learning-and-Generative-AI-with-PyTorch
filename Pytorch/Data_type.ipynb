{
  "nbformat": 4,
  "nbformat_minor": 0,
  "metadata": {
    "colab": {
      "provenance": []
    },
    "kernelspec": {
      "name": "python3",
      "display_name": "Python 3"
    },
    "language_info": {
      "name": "python"
    }
  },
  "cells": [
    {
      "cell_type": "code",
      "execution_count": 8,
      "metadata": {
        "colab": {
          "base_uri": "https://localhost:8080/",
          "height": 35
        },
        "id": "GawddwK0vLEe",
        "outputId": "21c5c4cb-600b-44dd-b604-aadb4613627d"
      },
      "outputs": [
        {
          "output_type": "execute_result",
          "data": {
            "text/plain": [
              "'2.5.1+cu124'"
            ],
            "application/vnd.google.colaboratory.intrinsic+json": {
              "type": "string"
            }
          },
          "metadata": {},
          "execution_count": 8
        }
      ],
      "source": [
        "import torch\n",
        "torch.__version__"
      ]
    },
    {
      "cell_type": "markdown",
      "source": [
        "#### ***Data Type:***"
      ],
      "metadata": {
        "id": "MmLW2hpMx3LA"
      }
    },
    {
      "cell_type": "markdown",
      "source": [
        "dtype is an attribute of a tensor that specifies the data type of its elements. Common data types include:\n",
        "\n",
        "* torch.float32 (or torch.float): 32-bit floating-point numbers (default)\n",
        "* torch.float64 (or torch.double): 64-bit floating-point numbers\n",
        "* torch.int32 (or torch.int): 32-bit integers\n",
        "* torch.int64 (or torch.long): 64-bit integers\n",
        "* torch.bool: Boolean values (True or False)\n",
        "\n",
        "\n",
        "\n"
      ],
      "metadata": {
        "id": "1uqcmE0EBEks"
      }
    },
    {
      "cell_type": "code",
      "source": [
        "\n"
      ],
      "metadata": {
        "colab": {
          "base_uri": "https://localhost:8080/"
        },
        "id": "hNUC2y1bAbIu",
        "outputId": "e148f172-8270-4d8a-a3cb-0614f78f42b7"
      },
      "execution_count": 15,
      "outputs": [
        {
          "output_type": "stream",
          "name": "stdout",
          "text": [
            "None\n"
          ]
        }
      ]
    },
    {
      "cell_type": "code",
      "source": [
        "rand_tesor = torch.rand(2, 3)\n",
        "print(rand_tesor)\n",
        "print(rand_tesor.dtype)"
      ],
      "metadata": {
        "id": "DkmzMsWax14x",
        "colab": {
          "base_uri": "https://localhost:8080/"
        },
        "outputId": "c6691f8f-c873-4ab5-ef38-0babbe9be9f1"
      },
      "execution_count": 9,
      "outputs": [
        {
          "output_type": "stream",
          "name": "stdout",
          "text": [
            "tensor([[0.1815, 0.3109, 0.3135],\n",
            "        [0.6936, 0.6003, 0.0385]])\n",
            "torch.float32\n"
          ]
        }
      ]
    },
    {
      "cell_type": "code",
      "source": [
        "rand_tesor = torch.rand(2, 3, dtype=torch.float16)\n",
        "print(rand_tesor)\n",
        "print(rand_tesor.dtype)"
      ],
      "metadata": {
        "colab": {
          "base_uri": "https://localhost:8080/"
        },
        "id": "fIkttE4b-OXp",
        "outputId": "66561a6a-f254-479c-8bc6-c32b76ea2e86"
      },
      "execution_count": 10,
      "outputs": [
        {
          "output_type": "stream",
          "name": "stdout",
          "text": [
            "tensor([[0.8267, 0.0537, 0.8340],\n",
            "        [0.6226, 0.7832, 0.5020]], dtype=torch.float16)\n",
            "torch.float16\n"
          ]
        }
      ]
    },
    {
      "cell_type": "code",
      "source": [
        "rand_tesor = torch.rand(2, 3, dtype=torch.float16)\n",
        "print(rand_tesor.to(dtype=torch.int32))\n"
      ],
      "metadata": {
        "colab": {
          "base_uri": "https://localhost:8080/"
        },
        "id": "NOsoliNJ-av9",
        "outputId": "ed5aabd9-2c1e-4acd-ec58-a634fed7cbb5"
      },
      "execution_count": 12,
      "outputs": [
        {
          "output_type": "stream",
          "name": "stdout",
          "text": [
            "tensor([[0, 0, 0],\n",
            "        [0, 0, 0]], dtype=torch.int32)\n"
          ]
        }
      ]
    },
    {
      "cell_type": "code",
      "source": [],
      "metadata": {
        "id": "CJAFaz-k-mA9"
      },
      "execution_count": null,
      "outputs": []
    }
  ]
}