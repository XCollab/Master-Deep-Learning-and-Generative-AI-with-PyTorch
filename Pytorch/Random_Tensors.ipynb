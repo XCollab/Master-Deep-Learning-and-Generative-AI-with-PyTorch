{
  "nbformat": 4,
  "nbformat_minor": 0,
  "metadata": {
    "colab": {
      "provenance": []
    },
    "kernelspec": {
      "name": "python3",
      "display_name": "Python 3"
    },
    "language_info": {
      "name": "python"
    }
  },
  "cells": [
    {
      "cell_type": "code",
      "execution_count": 1,
      "metadata": {
        "colab": {
          "base_uri": "https://localhost:8080/",
          "height": 35
        },
        "id": "I9sxaCFEfAcH",
        "outputId": "3e063529-97db-4ad7-f520-0ef3c27cc018"
      },
      "outputs": [
        {
          "output_type": "execute_result",
          "data": {
            "text/plain": [
              "'2.5.1+cu124'"
            ],
            "application/vnd.google.colaboratory.intrinsic+json": {
              "type": "string"
            }
          },
          "metadata": {},
          "execution_count": 1
        }
      ],
      "source": [
        "import torch as th\n",
        "th.__version__"
      ]
    },
    {
      "cell_type": "code",
      "source": [
        "# create random data\n",
        "data = th.rand(3, 5)\n",
        "print(data)\n",
        "print(data.shape)\n",
        "print(data.ndim)"
      ],
      "metadata": {
        "colab": {
          "base_uri": "https://localhost:8080/"
        },
        "id": "1UxvwD9vlXd0",
        "outputId": "487341e9-e03b-41e3-8500-40156885d127"
      },
      "execution_count": 7,
      "outputs": [
        {
          "output_type": "stream",
          "name": "stdout",
          "text": [
            "tensor([[0.3830, 0.5518, 0.6317, 0.1570, 0.4577],\n",
            "        [0.4907, 0.5443, 0.7391, 0.8222, 0.3461],\n",
            "        [0.8728, 0.2327, 0.8219, 0.6698, 0.1092]])\n",
            "torch.Size([3, 5])\n",
            "2\n"
          ]
        }
      ]
    },
    {
      "cell_type": "code",
      "source": [
        "print(th.rand.__doc__)"
      ],
      "metadata": {
        "colab": {
          "base_uri": "https://localhost:8080/"
        },
        "id": "v3eFtOU7nh_U",
        "outputId": "dd49240a-9611-4ef8-d425-c135be58bfda"
      },
      "execution_count": 12,
      "outputs": [
        {
          "output_type": "stream",
          "name": "stdout",
          "text": [
            "\n",
            "rand(*size, *, generator=None, out=None, dtype=None, layout=torch.strided, device=None, requires_grad=False, pin_memory=False) -> Tensor\n",
            "\n",
            "Returns a tensor filled with random numbers from a uniform distribution\n",
            "on the interval :math:`[0, 1)`\n",
            "\n",
            "The shape of the tensor is defined by the variable argument :attr:`size`.\n",
            "\n",
            "Args:\n",
            "    size (int...): a sequence of integers defining the shape of the output tensor.\n",
            "        Can be a variable number of arguments or a collection like a list or tuple.\n",
            "\n",
            "Keyword args:\n",
            "    generator (:class:`torch.Generator`, optional): a pseudorandom number generator for sampling\n",
            "    out (Tensor, optional): the output tensor.\n",
            "    dtype (:class:`torch.dtype`, optional): the desired data type of returned tensor.\n",
            "        Default: if ``None``, uses a global default (see :func:`torch.set_default_dtype`).\n",
            "    layout (:class:`torch.layout`, optional): the desired layout of returned Tensor.\n",
            "        Default: ``torch.strided``.\n",
            "    device (:class:`torch.device`, optional): the desired device of returned tensor.\n",
            "        Default: if ``None``, uses the current device for the default tensor type\n",
            "        (see :func:`torch.set_default_device`). :attr:`device` will be the CPU\n",
            "        for CPU tensor types and the current CUDA device for CUDA tensor types.\n",
            "    requires_grad (bool, optional): If autograd should record operations on the\n",
            "        returned tensor. Default: ``False``.\n",
            "    pin_memory (bool, optional): If set, returned tensor would be allocated in\n",
            "        the pinned memory. Works only for CPU tensors. Default: ``False``.\n",
            "\n",
            "Example::\n",
            "\n",
            "    >>> torch.rand(4)\n",
            "    tensor([ 0.5204,  0.2503,  0.3525,  0.5673])\n",
            "    >>> torch.rand(2, 3)\n",
            "    tensor([[ 0.8237,  0.5781,  0.6879],\n",
            "            [ 0.3816,  0.7249,  0.0998]])\n",
            "\n"
          ]
        }
      ]
    },
    {
      "cell_type": "code",
      "source": [
        "# Random tensor with `n` show is  normal distribution\n",
        "data = th.randn(3, 5)\n",
        "print(data)\n",
        "print(data.shape)\n",
        "print(data.ndim)"
      ],
      "metadata": {
        "colab": {
          "base_uri": "https://localhost:8080/"
        },
        "id": "ux8RT9Zhljhr",
        "outputId": "4f15c485-c770-4578-92da-cffcc2db9ca9"
      },
      "execution_count": 8,
      "outputs": [
        {
          "output_type": "stream",
          "name": "stdout",
          "text": [
            "tensor([[ 1.2689, -1.5036, -1.1766,  0.0672,  0.7411],\n",
            "        [ 1.0403,  1.1875,  0.2785,  1.4802, -0.7461],\n",
            "        [ 1.8642, -0.3209, -0.1033,  1.4253, -0.9494]])\n",
            "torch.Size([3, 5])\n",
            "2\n"
          ]
        }
      ]
    },
    {
      "cell_type": "code",
      "source": [
        "print(th.randn.__doc__)"
      ],
      "metadata": {
        "colab": {
          "base_uri": "https://localhost:8080/"
        },
        "id": "InA140j0my16",
        "outputId": "baefae9c-0acf-4248-d514-e52e8ef07198"
      },
      "execution_count": 10,
      "outputs": [
        {
          "output_type": "stream",
          "name": "stdout",
          "text": [
            "\n",
            "randn(*size, *, generator=None, out=None, dtype=None, layout=torch.strided, device=None, requires_grad=False, pin_memory=False) -> Tensor\n",
            "\n",
            "\n",
            "Returns a tensor filled with random numbers from a normal distribution\n",
            "with mean `0` and variance `1` (also called the standard normal\n",
            "distribution).\n",
            "\n",
            ".. math::\n",
            "    \\text{out}_{i} \\sim \\mathcal{N}(0, 1)\n",
            "\n",
            "For complex dtypes, the tensor is i.i.d. sampled from a `complex normal distribution`_ with zero mean and\n",
            "unit variance as\n",
            "\n",
            ".. math::\n",
            "    \\text{out}_{i} \\sim \\mathcal{CN}(0, 1)\n",
            "\n",
            "This is equivalent to separately sampling the real :math:`(\\operatorname{Re})` and imaginary\n",
            ":math:`(\\operatorname{Im})` part of :math:`\\text{out}_i` as\n",
            "\n",
            ".. math::\n",
            "    \\operatorname{Re}(\\text{out}_{i}) \\sim \\mathcal{N}(0, \\frac{1}{2}),\\quad\n",
            "    \\operatorname{Im}(\\text{out}_{i}) \\sim \\mathcal{N}(0, \\frac{1}{2})\n",
            "\n",
            "The shape of the tensor is defined by the variable argument :attr:`size`.\n",
            "\n",
            "\n",
            "Args:\n",
            "    size (int...): a sequence of integers defining the shape of the output tensor.\n",
            "        Can be a variable number of arguments or a collection like a list or tuple.\n",
            "\n",
            "Keyword args:\n",
            "    generator (:class:`torch.Generator`, optional): a pseudorandom number generator for sampling\n",
            "    out (Tensor, optional): the output tensor.\n",
            "    dtype (:class:`torch.dtype`, optional): the desired data type of returned tensor.\n",
            "        Default: if ``None``, uses a global default (see :func:`torch.set_default_dtype`).\n",
            "    layout (:class:`torch.layout`, optional): the desired layout of returned Tensor.\n",
            "        Default: ``torch.strided``.\n",
            "    device (:class:`torch.device`, optional): the desired device of returned tensor.\n",
            "        Default: if ``None``, uses the current device for the default tensor type\n",
            "        (see :func:`torch.set_default_device`). :attr:`device` will be the CPU\n",
            "        for CPU tensor types and the current CUDA device for CUDA tensor types.\n",
            "    requires_grad (bool, optional): If autograd should record operations on the\n",
            "        returned tensor. Default: ``False``.\n",
            "    pin_memory (bool, optional): If set, returned tensor would be allocated in\n",
            "        the pinned memory. Works only for CPU tensors. Default: ``False``.\n",
            "\n",
            "Example::\n",
            "\n",
            "    >>> torch.randn(4)\n",
            "    tensor([-2.1436,  0.9966,  2.3426, -0.6366])\n",
            "    >>> torch.randn(2, 3)\n",
            "    tensor([[ 1.5954,  2.8929, -1.0923],\n",
            "            [ 1.1719, -0.4709, -0.1996]])\n",
            "\n",
            ".. _complex normal distribution: https://en.wikipedia.org/wiki/Complex_normal_distribution\n",
            "\n"
          ]
        }
      ]
    },
    {
      "cell_type": "code",
      "source": [
        "# Create the 3D tensor with 2 Matrix, 3 rows, and 5 columns\n",
        "data = th.randn(2, 3, 5)\n",
        "print(data)\n",
        "print(data.shape)\n",
        "print(data.ndim)"
      ],
      "metadata": {
        "colab": {
          "base_uri": "https://localhost:8080/"
        },
        "id": "-h74B7KxnBeS",
        "outputId": "29c3f0e1-9c05-438f-a9c4-8f868b9171c5"
      },
      "execution_count": 14,
      "outputs": [
        {
          "output_type": "stream",
          "name": "stdout",
          "text": [
            "tensor([[[-0.0490,  1.1904, -1.4327,  0.7316,  0.2591],\n",
            "         [ 0.2731, -0.5848, -3.2795,  0.1698,  0.3050],\n",
            "         [ 0.1664, -0.0286,  1.1795, -0.2161,  0.2675]],\n",
            "\n",
            "        [[-1.9350,  1.3430,  0.0277, -1.2253,  1.0242],\n",
            "         [-0.5350,  1.7802, -2.9603, -0.6894,  0.5604],\n",
            "         [ 1.0215, -0.6285,  0.1882,  0.5510,  0.0963]]])\n",
            "torch.Size([2, 3, 5])\n",
            "3\n"
          ]
        }
      ]
    },
    {
      "cell_type": "code",
      "source": [],
      "metadata": {
        "id": "cAvnqPNYoRfW"
      },
      "execution_count": null,
      "outputs": []
    }
  ]
}