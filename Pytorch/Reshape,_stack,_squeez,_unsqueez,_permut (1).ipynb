{
  "nbformat": 4,
  "nbformat_minor": 0,
  "metadata": {
    "colab": {
      "provenance": []
    },
    "kernelspec": {
      "name": "python3",
      "display_name": "Python 3"
    },
    "language_info": {
      "name": "python"
    }
  },
  "cells": [
    {
      "cell_type": "code",
      "execution_count": 2,
      "metadata": {
        "colab": {
          "base_uri": "https://localhost:8080/",
          "height": 35
        },
        "id": "GawddwK0vLEe",
        "outputId": "18628139-af5f-4913-bc1b-72bb1ac2a8b8"
      },
      "outputs": [
        {
          "output_type": "execute_result",
          "data": {
            "text/plain": [
              "'2.5.1+cu124'"
            ],
            "application/vnd.google.colaboratory.intrinsic+json": {
              "type": "string"
            }
          },
          "metadata": {},
          "execution_count": 2
        }
      ],
      "source": [
        "import torch\n",
        "torch.__version__"
      ]
    },
    {
      "cell_type": "markdown",
      "source": [
        "#### ***Reshape:***"
      ],
      "metadata": {
        "id": "MmLW2hpMx3LA"
      }
    },
    {
      "cell_type": "code",
      "source": [
        "print(torch.reshape.__doc__)"
      ],
      "metadata": {
        "colab": {
          "base_uri": "https://localhost:8080/"
        },
        "id": "Up_9vU1jEjGU",
        "outputId": "a266ad12-c0bc-426d-f389-cb17c8807fbc"
      },
      "execution_count": 3,
      "outputs": [
        {
          "output_type": "stream",
          "name": "stdout",
          "text": [
            "\n",
            "reshape(input, shape) -> Tensor\n",
            "\n",
            "Returns a tensor with the same data and number of elements as :attr:`input`,\n",
            "but with the specified shape. When possible, the returned tensor will be a view\n",
            "of :attr:`input`. Otherwise, it will be a copy. Contiguous inputs and inputs\n",
            "with compatible strides can be reshaped without copying, but you should not\n",
            "depend on the copying vs. viewing behavior.\n",
            "\n",
            "See :meth:`torch.Tensor.view` on when it is possible to return a view.\n",
            "\n",
            "A single dimension may be -1, in which case it's inferred from the remaining\n",
            "dimensions and the number of elements in :attr:`input`.\n",
            "\n",
            "Args:\n",
            "    input (Tensor): the tensor to be reshaped\n",
            "    shape (tuple of int): the new shape\n",
            "\n",
            "Example::\n",
            "\n",
            "    >>> a = torch.arange(4.)\n",
            "    >>> torch.reshape(a, (2, 2))\n",
            "    tensor([[ 0.,  1.],\n",
            "            [ 2.,  3.]])\n",
            "    >>> b = torch.tensor([[0, 1], [2, 3]])\n",
            "    >>> torch.reshape(b, (-1,))\n",
            "    tensor([ 0,  1,  2,  3])\n",
            "\n"
          ]
        }
      ]
    },
    {
      "cell_type": "code",
      "source": [
        "a_ten = torch.arange(1, 13)\n",
        "print(a_ten)"
      ],
      "metadata": {
        "colab": {
          "base_uri": "https://localhost:8080/"
        },
        "id": "CJAFaz-k-mA9",
        "outputId": "0193d483-1a20-44f4-d6f9-06f2f6333ae0"
      },
      "execution_count": 4,
      "outputs": [
        {
          "output_type": "stream",
          "name": "stdout",
          "text": [
            "tensor([ 1,  2,  3,  4,  5,  6,  7,  8,  9, 10, 11, 12])\n"
          ]
        }
      ]
    },
    {
      "cell_type": "code",
      "source": [
        "a_ten.reshape(3, 4)"
      ],
      "metadata": {
        "colab": {
          "base_uri": "https://localhost:8080/"
        },
        "id": "We2FtiLMDef6",
        "outputId": "bf56e0b3-9525-4e1f-98f2-ac0af33d8f39"
      },
      "execution_count": 5,
      "outputs": [
        {
          "output_type": "execute_result",
          "data": {
            "text/plain": [
              "tensor([[ 1,  2,  3,  4],\n",
              "        [ 5,  6,  7,  8],\n",
              "        [ 9, 10, 11, 12]])"
            ]
          },
          "metadata": {},
          "execution_count": 5
        }
      ]
    },
    {
      "cell_type": "code",
      "source": [
        "a_ten.reshape(4, 3)"
      ],
      "metadata": {
        "colab": {
          "base_uri": "https://localhost:8080/"
        },
        "id": "_Bm2UcTODibU",
        "outputId": "c41d71eb-2266-4d4d-d87a-1336f1f457a2"
      },
      "execution_count": 6,
      "outputs": [
        {
          "output_type": "execute_result",
          "data": {
            "text/plain": [
              "tensor([[ 1,  2,  3],\n",
              "        [ 4,  5,  6],\n",
              "        [ 7,  8,  9],\n",
              "        [10, 11, 12]])"
            ]
          },
          "metadata": {},
          "execution_count": 6
        }
      ]
    },
    {
      "cell_type": "code",
      "source": [
        "a_ten.reshape(2, 2, 3)"
      ],
      "metadata": {
        "colab": {
          "base_uri": "https://localhost:8080/"
        },
        "id": "kYsuCDFhLAWx",
        "outputId": "92188760-f736-400a-ef47-96e693a15f8b"
      },
      "execution_count": 7,
      "outputs": [
        {
          "output_type": "execute_result",
          "data": {
            "text/plain": [
              "tensor([[[ 1,  2,  3],\n",
              "         [ 4,  5,  6]],\n",
              "\n",
              "        [[ 7,  8,  9],\n",
              "         [10, 11, 12]]])"
            ]
          },
          "metadata": {},
          "execution_count": 7
        }
      ]
    },
    {
      "cell_type": "markdown",
      "source": [
        "#### ***View:***\n",
        "\n",
        "\n",
        "\n"
      ],
      "metadata": {
        "id": "oO-jh7dpL8bk"
      }
    },
    {
      "cell_type": "code",
      "source": [
        "print(a_ten.view.__doc__)"
      ],
      "metadata": {
        "colab": {
          "base_uri": "https://localhost:8080/"
        },
        "id": "C-WjqDY5MZms",
        "outputId": "f7d83c08-55a6-4655-d6ab-436d4b9693d1"
      },
      "execution_count": 8,
      "outputs": [
        {
          "output_type": "stream",
          "name": "stdout",
          "text": [
            "\n",
            "view(*shape) -> Tensor\n",
            "\n",
            "Returns a new tensor with the same data as the :attr:`self` tensor but of a\n",
            "different :attr:`shape`.\n",
            "\n",
            "The returned tensor shares the same data and must have the same number\n",
            "of elements, but may have a different size. For a tensor to be viewed, the new\n",
            "view size must be compatible with its original size and stride, i.e., each new\n",
            "view dimension must either be a subspace of an original dimension, or only span\n",
            "across original dimensions :math:`d, d+1, \\dots, d+k` that satisfy the following\n",
            "contiguity-like condition that :math:`\\forall i = d, \\dots, d+k-1`,\n",
            "\n",
            ".. math::\n",
            "\n",
            "  \\text{stride}[i] = \\text{stride}[i+1] \\times \\text{size}[i+1]\n",
            "\n",
            "Otherwise, it will not be possible to view :attr:`self` tensor as :attr:`shape`\n",
            "without copying it (e.g., via :meth:`contiguous`). When it is unclear whether a\n",
            ":meth:`view` can be performed, it is advisable to use :meth:`reshape`, which\n",
            "returns a view if the shapes are compatible, and copies (equivalent to calling\n",
            ":meth:`contiguous`) otherwise.\n",
            "\n",
            "Args:\n",
            "    shape (torch.Size or int...): the desired size\n",
            "\n",
            "Example::\n",
            "\n",
            "    >>> x = torch.randn(4, 4)\n",
            "    >>> x.size()\n",
            "    torch.Size([4, 4])\n",
            "    >>> y = x.view(16)\n",
            "    >>> y.size()\n",
            "    torch.Size([16])\n",
            "    >>> z = x.view(-1, 8)  # the size -1 is inferred from other dimensions\n",
            "    >>> z.size()\n",
            "    torch.Size([2, 8])\n",
            "\n",
            "    >>> a = torch.randn(1, 2, 3, 4)\n",
            "    >>> a.size()\n",
            "    torch.Size([1, 2, 3, 4])\n",
            "    >>> b = a.transpose(1, 2)  # Swaps 2nd and 3rd dimension\n",
            "    >>> b.size()\n",
            "    torch.Size([1, 3, 2, 4])\n",
            "    >>> c = a.view(1, 3, 2, 4)  # Does not change tensor layout in memory\n",
            "    >>> c.size()\n",
            "    torch.Size([1, 3, 2, 4])\n",
            "    >>> torch.equal(b, c)\n",
            "    False\n",
            "\n",
            "\n",
            ".. method:: view(dtype) -> Tensor\n",
            "   :noindex:\n",
            "\n",
            "Returns a new tensor with the same data as the :attr:`self` tensor but of a\n",
            "different :attr:`dtype`.\n",
            "\n",
            "If the element size of :attr:`dtype` is different than that of ``self.dtype``,\n",
            "then the size of the last dimension of the output will be scaled\n",
            "proportionally.  For instance, if :attr:`dtype` element size is twice that of\n",
            "``self.dtype``, then each pair of elements in the last dimension of\n",
            ":attr:`self` will be combined, and the size of the last dimension of the output\n",
            "will be half that of :attr:`self`. If :attr:`dtype` element size is half that\n",
            "of ``self.dtype``, then each element in the last dimension of :attr:`self` will\n",
            "be split in two, and the size of the last dimension of the output will be\n",
            "double that of :attr:`self`. For this to be possible, the following conditions\n",
            "must be true:\n",
            "\n",
            "    * ``self.dim()`` must be greater than 0.\n",
            "    * ``self.stride(-1)`` must be 1.\n",
            "\n",
            "Additionally, if the element size of :attr:`dtype` is greater than that of\n",
            "``self.dtype``, the following conditions must be true as well:\n",
            "\n",
            "    * ``self.size(-1)`` must be divisible by the ratio between the element\n",
            "      sizes of the dtypes.\n",
            "    * ``self.storage_offset()`` must be divisible by the ratio between the\n",
            "      element sizes of the dtypes.\n",
            "    * The strides of all dimensions, except the last dimension, must be\n",
            "      divisible by the ratio between the element sizes of the dtypes.\n",
            "\n",
            "If any of the above conditions are not met, an error is thrown.\n",
            "\n",
            ".. warning::\n",
            "\n",
            "    This overload is not supported by TorchScript, and using it in a Torchscript\n",
            "    program will cause undefined behavior.\n",
            "\n",
            "\n",
            "Args:\n",
            "    dtype (:class:`torch.dtype`): the desired dtype\n",
            "\n",
            "Example::\n",
            "\n",
            "    >>> x = torch.randn(4, 4)\n",
            "    >>> x\n",
            "    tensor([[ 0.9482, -0.0310,  1.4999, -0.5316],\n",
            "            [-0.1520,  0.7472,  0.5617, -0.8649],\n",
            "            [-2.4724, -0.0334, -0.2976, -0.8499],\n",
            "            [-0.2109,  1.9913, -0.9607, -0.6123]])\n",
            "    >>> x.dtype\n",
            "    torch.float32\n",
            "\n",
            "    >>> y = x.view(torch.int32)\n",
            "    >>> y\n",
            "    tensor([[ 1064483442, -1124191867,  1069546515, -1089989247],\n",
            "            [-1105482831,  1061112040,  1057999968, -1084397505],\n",
            "            [-1071760287, -1123489973, -1097310419, -1084649136],\n",
            "            [-1101533110,  1073668768, -1082790149, -1088634448]],\n",
            "        dtype=torch.int32)\n",
            "    >>> y[0, 0] = 1000000000\n",
            "    >>> x\n",
            "    tensor([[ 0.0047, -0.0310,  1.4999, -0.5316],\n",
            "            [-0.1520,  0.7472,  0.5617, -0.8649],\n",
            "            [-2.4724, -0.0334, -0.2976, -0.8499],\n",
            "            [-0.2109,  1.9913, -0.9607, -0.6123]])\n",
            "\n",
            "    >>> x.view(torch.cfloat)\n",
            "    tensor([[ 0.0047-0.0310j,  1.4999-0.5316j],\n",
            "            [-0.1520+0.7472j,  0.5617-0.8649j],\n",
            "            [-2.4724-0.0334j, -0.2976-0.8499j],\n",
            "            [-0.2109+1.9913j, -0.9607-0.6123j]])\n",
            "    >>> x.view(torch.cfloat).size()\n",
            "    torch.Size([4, 2])\n",
            "\n",
            "    >>> x.view(torch.uint8)\n",
            "    tensor([[  0, 202, 154,  59, 182, 243, 253, 188, 185, 252, 191,  63, 240,  22,\n",
            "               8, 191],\n",
            "            [227, 165,  27, 190, 128,  72,  63,  63, 146, 203,  15,  63,  22, 106,\n",
            "              93, 191],\n",
            "            [205,  59,  30, 192, 112, 206,   8, 189,   7,  95, 152, 190,  12, 147,\n",
            "              89, 191],\n",
            "            [ 43, 246,  87, 190, 235, 226, 254,  63, 111, 240, 117, 191, 177, 191,\n",
            "              28, 191]], dtype=torch.uint8)\n",
            "    >>> x.view(torch.uint8).size()\n",
            "    torch.Size([4, 16])\n",
            "\n"
          ]
        }
      ]
    },
    {
      "cell_type": "code",
      "source": [
        "print(a_ten)"
      ],
      "metadata": {
        "colab": {
          "base_uri": "https://localhost:8080/"
        },
        "id": "FJQG2K5lMOG9",
        "outputId": "8f8d71d6-4171-4279-d961-505960046383"
      },
      "execution_count": 9,
      "outputs": [
        {
          "output_type": "stream",
          "name": "stdout",
          "text": [
            "tensor([ 1,  2,  3,  4,  5,  6,  7,  8,  9, 10, 11, 12])\n"
          ]
        }
      ]
    },
    {
      "cell_type": "code",
      "source": [
        "a_ten.view(3, 4)"
      ],
      "metadata": {
        "colab": {
          "base_uri": "https://localhost:8080/"
        },
        "id": "VU0U16fdNaEC",
        "outputId": "02c92074-7de1-4ede-d4e4-d72bea1f5e3d"
      },
      "execution_count": 10,
      "outputs": [
        {
          "output_type": "execute_result",
          "data": {
            "text/plain": [
              "tensor([[ 1,  2,  3,  4],\n",
              "        [ 5,  6,  7,  8],\n",
              "        [ 9, 10, 11, 12]])"
            ]
          },
          "metadata": {},
          "execution_count": 10
        }
      ]
    },
    {
      "cell_type": "code",
      "source": [
        "a_ten.view(3, 4)[0,0] = 100"
      ],
      "metadata": {
        "id": "ipdea9sJNimY"
      },
      "execution_count": 11,
      "outputs": []
    },
    {
      "cell_type": "code",
      "source": [
        "a_ten"
      ],
      "metadata": {
        "colab": {
          "base_uri": "https://localhost:8080/"
        },
        "id": "o0qF9mKKN19z",
        "outputId": "fdc6bc8a-0d47-4dc8-f790-81544de60dda"
      },
      "execution_count": 12,
      "outputs": [
        {
          "output_type": "execute_result",
          "data": {
            "text/plain": [
              "tensor([100,   2,   3,   4,   5,   6,   7,   8,   9,  10,  11,  12])"
            ]
          },
          "metadata": {},
          "execution_count": 12
        }
      ]
    },
    {
      "cell_type": "markdown",
      "source": [
        "#### ***Stack:***"
      ],
      "metadata": {
        "id": "hIj4oQmROtUR"
      }
    },
    {
      "cell_type": "code",
      "source": [
        "tensor = torch.arange(1, 13)\n",
        "print(tensor)"
      ],
      "metadata": {
        "colab": {
          "base_uri": "https://localhost:8080/"
        },
        "id": "oBw8Vx0jOybz",
        "outputId": "520c26dc-8aa3-4bff-d761-8e0eeb248ce0"
      },
      "execution_count": 13,
      "outputs": [
        {
          "output_type": "stream",
          "name": "stdout",
          "text": [
            "tensor([ 1,  2,  3,  4,  5,  6,  7,  8,  9, 10, 11, 12])\n"
          ]
        }
      ]
    },
    {
      "cell_type": "code",
      "source": [
        "torch.stack([tensor, a_ten, a_ten], dim=0)"
      ],
      "metadata": {
        "colab": {
          "base_uri": "https://localhost:8080/"
        },
        "id": "ujHGOvpNO5H-",
        "outputId": "56ddf81f-fc9e-45ef-ab34-d2dae4aed111"
      },
      "execution_count": 14,
      "outputs": [
        {
          "output_type": "execute_result",
          "data": {
            "text/plain": [
              "tensor([[  1,   2,   3,   4,   5,   6,   7,   8,   9,  10,  11,  12],\n",
              "        [100,   2,   3,   4,   5,   6,   7,   8,   9,  10,  11,  12],\n",
              "        [100,   2,   3,   4,   5,   6,   7,   8,   9,  10,  11,  12]])"
            ]
          },
          "metadata": {},
          "execution_count": 14
        }
      ]
    },
    {
      "cell_type": "code",
      "source": [
        "torch.stack([tensor, a_ten, a_ten], dim=1)"
      ],
      "metadata": {
        "colab": {
          "base_uri": "https://localhost:8080/"
        },
        "id": "pomFAcAsPJaN",
        "outputId": "97c075c0-97a9-4378-8ff5-1b985fe14a53"
      },
      "execution_count": 15,
      "outputs": [
        {
          "output_type": "execute_result",
          "data": {
            "text/plain": [
              "tensor([[  1, 100, 100],\n",
              "        [  2,   2,   2],\n",
              "        [  3,   3,   3],\n",
              "        [  4,   4,   4],\n",
              "        [  5,   5,   5],\n",
              "        [  6,   6,   6],\n",
              "        [  7,   7,   7],\n",
              "        [  8,   8,   8],\n",
              "        [  9,   9,   9],\n",
              "        [ 10,  10,  10],\n",
              "        [ 11,  11,  11],\n",
              "        [ 12,  12,  12]])"
            ]
          },
          "metadata": {},
          "execution_count": 15
        }
      ]
    },
    {
      "cell_type": "code",
      "source": [
        "torch.stack([tensor, a_ten, a_ten], dim=1)"
      ],
      "metadata": {
        "colab": {
          "base_uri": "https://localhost:8080/"
        },
        "id": "UjPFh5PNPNQe",
        "outputId": "f8b5fe3b-799c-45df-8be3-1e264aa87d07"
      },
      "execution_count": 16,
      "outputs": [
        {
          "output_type": "execute_result",
          "data": {
            "text/plain": [
              "tensor([[  1, 100, 100],\n",
              "        [  2,   2,   2],\n",
              "        [  3,   3,   3],\n",
              "        [  4,   4,   4],\n",
              "        [  5,   5,   5],\n",
              "        [  6,   6,   6],\n",
              "        [  7,   7,   7],\n",
              "        [  8,   8,   8],\n",
              "        [  9,   9,   9],\n",
              "        [ 10,  10,  10],\n",
              "        [ 11,  11,  11],\n",
              "        [ 12,  12,  12]])"
            ]
          },
          "metadata": {},
          "execution_count": 16
        }
      ]
    },
    {
      "cell_type": "markdown",
      "source": [
        "#### ***UnSqueez:***"
      ],
      "metadata": {
        "id": "2dix4Z4ACmZ0"
      }
    },
    {
      "cell_type": "code",
      "source": [
        "print(torch.unsqueeze.__doc__)"
      ],
      "metadata": {
        "colab": {
          "base_uri": "https://localhost:8080/"
        },
        "id": "Q1OU00CfEuYK",
        "outputId": "69c7adf4-a65f-4104-cb12-9f371779dfe7"
      },
      "execution_count": 17,
      "outputs": [
        {
          "output_type": "stream",
          "name": "stdout",
          "text": [
            "\n",
            "unsqueeze(input, dim) -> Tensor\n",
            "\n",
            "Returns a new tensor with a dimension of size one inserted at the\n",
            "specified position.\n",
            "\n",
            "The returned tensor shares the same underlying data with this tensor.\n",
            "\n",
            "A :attr:`dim` value within the range ``[-input.dim() - 1, input.dim() + 1)``\n",
            "can be used. Negative :attr:`dim` will correspond to :meth:`unsqueeze`\n",
            "applied at :attr:`dim` = ``dim + input.dim() + 1``.\n",
            "\n",
            "Args:\n",
            "    input (Tensor): the input tensor.\n",
            "    dim (int): the index at which to insert the singleton dimension\n",
            "\n",
            "Example::\n",
            "\n",
            "    >>> x = torch.tensor([1, 2, 3, 4])\n",
            "    >>> torch.unsqueeze(x, 0)\n",
            "    tensor([[ 1,  2,  3,  4]])\n",
            "    >>> torch.unsqueeze(x, 1)\n",
            "    tensor([[ 1],\n",
            "            [ 2],\n",
            "            [ 3],\n",
            "            [ 4]])\n",
            "\n"
          ]
        }
      ]
    },
    {
      "cell_type": "code",
      "source": [
        "a_ten = torch.arange(1, 13)\n",
        "print(a_ten)\n",
        "print(a_ten.shape)\n",
        "print(a_ten.ndim)"
      ],
      "metadata": {
        "colab": {
          "base_uri": "https://localhost:8080/"
        },
        "id": "jFyfFLzVv1S5",
        "outputId": "fa9117db-967b-46e3-ac06-871b8e93347e"
      },
      "execution_count": 34,
      "outputs": [
        {
          "output_type": "stream",
          "name": "stdout",
          "text": [
            "tensor([ 1,  2,  3,  4,  5,  6,  7,  8,  9, 10, 11, 12])\n",
            "torch.Size([12])\n",
            "1\n"
          ]
        }
      ]
    },
    {
      "cell_type": "code",
      "source": [
        "a_ten_un = a_ten.unsqueeze(0)\n",
        "print(a_ten_un)\n",
        "print(a_ten_un.shape)\n",
        "print(a_ten_un.ndim)"
      ],
      "metadata": {
        "colab": {
          "base_uri": "https://localhost:8080/"
        },
        "id": "oC10i3SJCxGy",
        "outputId": "dfeaafb9-3460-49c2-eef5-a732febf2acc"
      },
      "execution_count": 35,
      "outputs": [
        {
          "output_type": "stream",
          "name": "stdout",
          "text": [
            "tensor([[ 1,  2,  3,  4,  5,  6,  7,  8,  9, 10, 11, 12]])\n",
            "torch.Size([1, 12])\n",
            "2\n"
          ]
        }
      ]
    },
    {
      "cell_type": "code",
      "source": [
        "a_ten_un_1 = a_ten.unsqueeze(1)\n",
        "print(a_ten_un_1)\n",
        "print(a_ten_un_1.shape)\n",
        "print(a_ten_un_1.ndim)"
      ],
      "metadata": {
        "colab": {
          "base_uri": "https://localhost:8080/"
        },
        "id": "57x13gqpEKWL",
        "outputId": "83775512-3a64-49b7-d7f0-65fe703179c5"
      },
      "execution_count": 36,
      "outputs": [
        {
          "output_type": "stream",
          "name": "stdout",
          "text": [
            "tensor([[ 1],\n",
            "        [ 2],\n",
            "        [ 3],\n",
            "        [ 4],\n",
            "        [ 5],\n",
            "        [ 6],\n",
            "        [ 7],\n",
            "        [ 8],\n",
            "        [ 9],\n",
            "        [10],\n",
            "        [11],\n",
            "        [12]])\n",
            "torch.Size([12, 1])\n",
            "2\n"
          ]
        }
      ]
    },
    {
      "cell_type": "markdown",
      "source": [
        "#### ***Squeez:***"
      ],
      "metadata": {
        "id": "-LSnDZ_WCww0"
      }
    },
    {
      "cell_type": "code",
      "source": [
        "print(torch.squeeze.__doc__)"
      ],
      "metadata": {
        "colab": {
          "base_uri": "https://localhost:8080/"
        },
        "id": "a5L4LDt6ExBV",
        "outputId": "8d9c5966-52fa-4166-df97-ede4c927a4b8"
      },
      "execution_count": 37,
      "outputs": [
        {
          "output_type": "stream",
          "name": "stdout",
          "text": [
            "\n",
            "squeeze(input, dim=None) -> Tensor\n",
            "\n",
            "Returns a tensor with all specified dimensions of :attr:`input` of size `1` removed.\n",
            "\n",
            "For example, if `input` is of shape:\n",
            ":math:`(A \\times 1 \\times B \\times C \\times 1 \\times D)` then the `input.squeeze()`\n",
            "will be of shape: :math:`(A \\times B \\times C \\times D)`.\n",
            "\n",
            "When :attr:`dim` is given, a squeeze operation is done only in the given\n",
            "dimension(s). If `input` is of shape: :math:`(A \\times 1 \\times B)`,\n",
            "``squeeze(input, 0)`` leaves the tensor unchanged, but ``squeeze(input, 1)``\n",
            "will squeeze the tensor to the shape :math:`(A \\times B)`.\n",
            "\n",
            ".. note:: The returned tensor shares the storage with the input tensor,\n",
            "          so changing the contents of one will change the contents of the other.\n",
            "\n",
            ".. warning:: If the tensor has a batch dimension of size 1, then `squeeze(input)`\n",
            "          will also remove the batch dimension, which can lead to unexpected\n",
            "          errors. Consider specifying only the dims you wish to be squeezed.\n",
            "\n",
            "Args:\n",
            "    input (Tensor): the input tensor.\n",
            "    dim (int or tuple of ints, optional): if given, the input will be squeezed\n",
            "           only in the specified dimensions.\n",
            "\n",
            "        .. versionchanged:: 2.0\n",
            "           :attr:`dim` now accepts tuples of dimensions.\n",
            "\n",
            "Example::\n",
            "\n",
            "    >>> x = torch.zeros(2, 1, 2, 1, 2)\n",
            "    >>> x.size()\n",
            "    torch.Size([2, 1, 2, 1, 2])\n",
            "    >>> y = torch.squeeze(x)\n",
            "    >>> y.size()\n",
            "    torch.Size([2, 2, 2])\n",
            "    >>> y = torch.squeeze(x, 0)\n",
            "    >>> y.size()\n",
            "    torch.Size([2, 1, 2, 1, 2])\n",
            "    >>> y = torch.squeeze(x, 1)\n",
            "    >>> y.size()\n",
            "    torch.Size([2, 2, 1, 2])\n",
            "    >>> y = torch.squeeze(x, (1, 2, 3))\n",
            "    torch.Size([2, 2, 2])\n",
            "\n"
          ]
        }
      ]
    },
    {
      "cell_type": "code",
      "source": [
        "a_ten_sq = a_ten_un.squeeze()\n",
        "print(a_ten_sq)\n",
        "print(a_ten_sq.shape)\n",
        "print(a_ten_sq.ndim)"
      ],
      "metadata": {
        "colab": {
          "base_uri": "https://localhost:8080/"
        },
        "id": "XkBGM2JEwf9T",
        "outputId": "369a23d7-f288-4747-863f-6d4cebb5f772"
      },
      "execution_count": 38,
      "outputs": [
        {
          "output_type": "stream",
          "name": "stdout",
          "text": [
            "tensor([ 1,  2,  3,  4,  5,  6,  7,  8,  9, 10, 11, 12])\n",
            "torch.Size([12])\n",
            "1\n"
          ]
        }
      ]
    },
    {
      "cell_type": "code",
      "source": [
        "a_ten_sq_1 = a_ten_un_1.squeeze()\n",
        "print(a_ten_sq_1)\n",
        "print(a_ten_sq_1.shape)\n",
        "print(a_ten_sq_1.ndim)"
      ],
      "metadata": {
        "colab": {
          "base_uri": "https://localhost:8080/"
        },
        "id": "o_TaFjjEwzZA",
        "outputId": "5bdac01f-a1ef-4404-8edd-45862eee8691"
      },
      "execution_count": 39,
      "outputs": [
        {
          "output_type": "stream",
          "name": "stdout",
          "text": [
            "tensor([ 1,  2,  3,  4,  5,  6,  7,  8,  9, 10, 11, 12])\n",
            "torch.Size([12])\n",
            "1\n"
          ]
        }
      ]
    },
    {
      "cell_type": "markdown",
      "source": [
        "#### ***Permut:***"
      ],
      "metadata": {
        "id": "IhiSe4FUxNCd"
      }
    },
    {
      "cell_type": "code",
      "source": [
        "print(torch.permute.__doc__)"
      ],
      "metadata": {
        "colab": {
          "base_uri": "https://localhost:8080/"
        },
        "id": "1l0gGiLEw7IM",
        "outputId": "4265fb7f-7851-4b10-9574-d9fb8b899944"
      },
      "execution_count": 40,
      "outputs": [
        {
          "output_type": "stream",
          "name": "stdout",
          "text": [
            "\n",
            "permute(input, dims) -> Tensor\n",
            "\n",
            "Returns a view of the original tensor :attr:`input` with its dimensions permuted.\n",
            "\n",
            "Args:\n",
            "    input (Tensor): the input tensor.\n",
            "    dims (tuple of int): The desired ordering of dimensions\n",
            "\n",
            "Example:\n",
            "    >>> x = torch.randn(2, 3, 5)\n",
            "    >>> x.size()\n",
            "    torch.Size([2, 3, 5])\n",
            "    >>> torch.permute(x, (2, 0, 1)).size()\n",
            "    torch.Size([5, 2, 3])\n",
            "\n"
          ]
        }
      ]
    },
    {
      "cell_type": "code",
      "source": [
        "rand = torch.randn(2, 3, 5)\n",
        "print(rand)\n",
        "print(rand.shape)\n",
        "print(rand.ndim)"
      ],
      "metadata": {
        "colab": {
          "base_uri": "https://localhost:8080/"
        },
        "id": "Swtjgv6UxTQb",
        "outputId": "9b713e44-52f4-405a-a6cf-5591a783341b"
      },
      "execution_count": 41,
      "outputs": [
        {
          "output_type": "stream",
          "name": "stdout",
          "text": [
            "tensor([[[ 0.1742,  0.0913, -0.0557,  0.4748, -2.7716],\n",
            "         [ 0.7739,  0.2739, -0.0876, -2.0577, -2.1510],\n",
            "         [ 0.0903,  0.3945, -2.1239, -0.8232,  0.5906]],\n",
            "\n",
            "        [[-1.5474, -1.5575,  1.1503,  0.0698, -0.9631],\n",
            "         [ 1.3978,  0.0105, -0.2382, -0.8204, -1.2301],\n",
            "         [ 1.1082,  0.8407,  0.5174, -0.0237,  0.3775]]])\n",
            "torch.Size([2, 3, 5])\n",
            "3\n"
          ]
        }
      ]
    },
    {
      "cell_type": "code",
      "source": [
        "rand.permute(2, 0, 1)"
      ],
      "metadata": {
        "colab": {
          "base_uri": "https://localhost:8080/"
        },
        "id": "AZDv6tzIxvG9",
        "outputId": "cb4de4b8-9dca-48ec-f16b-9e57e23c69c5"
      },
      "execution_count": 42,
      "outputs": [
        {
          "output_type": "execute_result",
          "data": {
            "text/plain": [
              "tensor([[[ 0.1742,  0.7739,  0.0903],\n",
              "         [-1.5474,  1.3978,  1.1082]],\n",
              "\n",
              "        [[ 0.0913,  0.2739,  0.3945],\n",
              "         [-1.5575,  0.0105,  0.8407]],\n",
              "\n",
              "        [[-0.0557, -0.0876, -2.1239],\n",
              "         [ 1.1503, -0.2382,  0.5174]],\n",
              "\n",
              "        [[ 0.4748, -2.0577, -0.8232],\n",
              "         [ 0.0698, -0.8204, -0.0237]],\n",
              "\n",
              "        [[-2.7716, -2.1510,  0.5906],\n",
              "         [-0.9631, -1.2301,  0.3775]]])"
            ]
          },
          "metadata": {},
          "execution_count": 42
        }
      ]
    },
    {
      "cell_type": "code",
      "source": [],
      "metadata": {
        "id": "glxm_C1MyIOo"
      },
      "execution_count": null,
      "outputs": []
    }
  ]
}