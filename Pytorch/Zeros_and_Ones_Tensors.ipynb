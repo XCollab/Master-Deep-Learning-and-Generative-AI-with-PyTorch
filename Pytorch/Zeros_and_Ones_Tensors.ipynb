{
  "nbformat": 4,
  "nbformat_minor": 0,
  "metadata": {
    "colab": {
      "provenance": [],
      "gpuType": "T4"
    },
    "kernelspec": {
      "name": "python3",
      "display_name": "Python 3"
    },
    "language_info": {
      "name": "python"
    },
    "accelerator": "GPU"
  },
  "cells": [
    {
      "cell_type": "code",
      "execution_count": 1,
      "metadata": {
        "colab": {
          "base_uri": "https://localhost:8080/",
          "height": 35
        },
        "id": "I9sxaCFEfAcH",
        "outputId": "86770bea-e1a3-44d8-ec26-92ea870399e2"
      },
      "outputs": [
        {
          "output_type": "execute_result",
          "data": {
            "text/plain": [
              "'2.5.1+cu124'"
            ],
            "application/vnd.google.colaboratory.intrinsic+json": {
              "type": "string"
            }
          },
          "metadata": {},
          "execution_count": 1
        }
      ],
      "source": [
        "import torch as th\n",
        "th.__version__"
      ]
    },
    {
      "cell_type": "markdown",
      "source": [
        "### ***Zeros:***"
      ],
      "metadata": {
        "id": "CztSK6XnqAfZ"
      }
    },
    {
      "cell_type": "code",
      "source": [
        "# create random data\n",
        "data = th.zeros(1, 5)\n",
        "print(data)\n",
        "print(data.shape)\n",
        "print(data.ndim)"
      ],
      "metadata": {
        "colab": {
          "base_uri": "https://localhost:8080/"
        },
        "id": "1UxvwD9vlXd0",
        "outputId": "a0b327ce-731a-43d1-b094-ebaf9a32d448"
      },
      "execution_count": 2,
      "outputs": [
        {
          "output_type": "stream",
          "name": "stdout",
          "text": [
            "tensor([[0., 0., 0., 0., 0.]])\n",
            "torch.Size([1, 5])\n",
            "2\n"
          ]
        }
      ]
    },
    {
      "cell_type": "code",
      "source": [
        "print(th.zeros.__doc__)"
      ],
      "metadata": {
        "colab": {
          "base_uri": "https://localhost:8080/"
        },
        "id": "v3eFtOU7nh_U",
        "outputId": "4618dd69-2a81-4685-ed74-cefd9edbe4f9"
      },
      "execution_count": 3,
      "outputs": [
        {
          "output_type": "stream",
          "name": "stdout",
          "text": [
            "\n",
            "zeros(*size, *, out=None, dtype=None, layout=torch.strided, device=None, requires_grad=False) -> Tensor\n",
            "\n",
            "Returns a tensor filled with the scalar value `0`, with the shape defined\n",
            "by the variable argument :attr:`size`.\n",
            "\n",
            "Args:\n",
            "    size (int...): a sequence of integers defining the shape of the output tensor.\n",
            "        Can be a variable number of arguments or a collection like a list or tuple.\n",
            "\n",
            "Keyword args:\n",
            "    out (Tensor, optional): the output tensor.\n",
            "    dtype (:class:`torch.dtype`, optional): the desired data type of returned tensor.\n",
            "        Default: if ``None``, uses a global default (see :func:`torch.set_default_dtype`).\n",
            "    layout (:class:`torch.layout`, optional): the desired layout of returned Tensor.\n",
            "        Default: ``torch.strided``.\n",
            "    device (:class:`torch.device`, optional): the desired device of returned tensor.\n",
            "        Default: if ``None``, uses the current device for the default tensor type\n",
            "        (see :func:`torch.set_default_device`). :attr:`device` will be the CPU\n",
            "        for CPU tensor types and the current CUDA device for CUDA tensor types.\n",
            "    requires_grad (bool, optional): If autograd should record operations on the\n",
            "        returned tensor. Default: ``False``.\n",
            "\n",
            "Example::\n",
            "\n",
            "    >>> torch.zeros(2, 3)\n",
            "    tensor([[ 0.,  0.,  0.],\n",
            "            [ 0.,  0.,  0.]])\n",
            "\n",
            "    >>> torch.zeros(5)\n",
            "    tensor([ 0.,  0.,  0.,  0.,  0.])\n",
            "\n"
          ]
        }
      ]
    },
    {
      "cell_type": "code",
      "source": [
        "# Random tensor with `n` show is  normal distribution\n",
        "data = th.zeros(3, 5)\n",
        "print(data)\n",
        "print(data.shape)\n",
        "print(data.ndim)"
      ],
      "metadata": {
        "colab": {
          "base_uri": "https://localhost:8080/"
        },
        "id": "ux8RT9Zhljhr",
        "outputId": "ceea0197-bf25-436d-b250-1021a23f5adc"
      },
      "execution_count": 4,
      "outputs": [
        {
          "output_type": "stream",
          "name": "stdout",
          "text": [
            "tensor([[0., 0., 0., 0., 0.],\n",
            "        [0., 0., 0., 0., 0.],\n",
            "        [0., 0., 0., 0., 0.]])\n",
            "torch.Size([3, 5])\n",
            "2\n"
          ]
        }
      ]
    },
    {
      "cell_type": "code",
      "source": [
        "# Create the 3D tensor with 2 Matrix, 3 rows, and 5 columns\n",
        "data = th.zeros(2, 3, 5)\n",
        "print(data)\n",
        "print(data.shape)\n",
        "print(data.ndim)"
      ],
      "metadata": {
        "colab": {
          "base_uri": "https://localhost:8080/"
        },
        "id": "-h74B7KxnBeS",
        "outputId": "e821a728-9a9d-44b8-abc2-ecd35f85b489"
      },
      "execution_count": 5,
      "outputs": [
        {
          "output_type": "stream",
          "name": "stdout",
          "text": [
            "tensor([[[0., 0., 0., 0., 0.],\n",
            "         [0., 0., 0., 0., 0.],\n",
            "         [0., 0., 0., 0., 0.]],\n",
            "\n",
            "        [[0., 0., 0., 0., 0.],\n",
            "         [0., 0., 0., 0., 0.],\n",
            "         [0., 0., 0., 0., 0.]]])\n",
            "torch.Size([2, 3, 5])\n",
            "3\n"
          ]
        }
      ]
    },
    {
      "cell_type": "code",
      "source": [
        "data = th.randn_like(data)\n",
        "print(data)\n",
        "print(data.shape)\n",
        "print(data.ndim)"
      ],
      "metadata": {
        "colab": {
          "base_uri": "https://localhost:8080/"
        },
        "id": "WU5W4DxtsAWw",
        "outputId": "2fa77771-adcf-40d8-b051-fc572cdcabb5"
      },
      "execution_count": 6,
      "outputs": [
        {
          "output_type": "stream",
          "name": "stdout",
          "text": [
            "tensor([[[ 1.6851,  0.1561,  1.3276, -1.0184, -0.1824],\n",
            "         [-0.5310, -0.7835,  0.1598, -0.6568, -0.0936],\n",
            "         [ 1.7321,  0.9621,  0.8935,  0.2943, -0.3318]],\n",
            "\n",
            "        [[-1.5730,  0.6019,  1.0474,  0.5833,  0.2483],\n",
            "         [-0.7769, -0.1593,  0.9774, -0.5759,  2.3043],\n",
            "         [ 0.5602, -1.0935,  0.4560,  1.7659, -1.0794]]])\n",
            "torch.Size([2, 3, 5])\n",
            "3\n"
          ]
        }
      ]
    },
    {
      "cell_type": "code",
      "source": [
        "\n",
        "zero_like = th.zeros_like(data)\n",
        "print(zero_like)\n",
        "print(zero_like.shape)\n",
        "print(zero_like.ndim)"
      ],
      "metadata": {
        "colab": {
          "base_uri": "https://localhost:8080/"
        },
        "id": "YDlnSFEQr6ES",
        "outputId": "79b24590-c33c-4e29-ae83-c7329a012849"
      },
      "execution_count": 7,
      "outputs": [
        {
          "output_type": "stream",
          "name": "stdout",
          "text": [
            "tensor([[[0., 0., 0., 0., 0.],\n",
            "         [0., 0., 0., 0., 0.],\n",
            "         [0., 0., 0., 0., 0.]],\n",
            "\n",
            "        [[0., 0., 0., 0., 0.],\n",
            "         [0., 0., 0., 0., 0.],\n",
            "         [0., 0., 0., 0., 0.]]])\n",
            "torch.Size([2, 3, 5])\n",
            "3\n"
          ]
        }
      ]
    },
    {
      "cell_type": "markdown",
      "source": [
        "### ***Ones:***"
      ],
      "metadata": {
        "id": "pEOrA7vQqHn3"
      }
    },
    {
      "cell_type": "code",
      "source": [
        "ones = th.ones([5])\n",
        "print(ones)\n",
        "print(ones.shape)\n",
        "print(ones.ndim)"
      ],
      "metadata": {
        "colab": {
          "base_uri": "https://localhost:8080/"
        },
        "id": "cAvnqPNYoRfW",
        "outputId": "b2f109b4-d504-4a18-96b1-09601c01c7ec"
      },
      "execution_count": 8,
      "outputs": [
        {
          "output_type": "stream",
          "name": "stdout",
          "text": [
            "tensor([1., 1., 1., 1., 1.])\n",
            "torch.Size([5])\n",
            "1\n"
          ]
        }
      ]
    },
    {
      "cell_type": "code",
      "source": [
        "print(th.ones.__doc__)"
      ],
      "metadata": {
        "colab": {
          "base_uri": "https://localhost:8080/"
        },
        "id": "cN0emg5AqTsT",
        "outputId": "bb461dfd-12aa-447c-fe8c-30ebc9bf3cd6"
      },
      "execution_count": 9,
      "outputs": [
        {
          "output_type": "stream",
          "name": "stdout",
          "text": [
            "\n",
            "ones(*size, *, out=None, dtype=None, layout=torch.strided, device=None, requires_grad=False) -> Tensor\n",
            "\n",
            "Returns a tensor filled with the scalar value `1`, with the shape defined\n",
            "by the variable argument :attr:`size`.\n",
            "\n",
            "Args:\n",
            "    size (int...): a sequence of integers defining the shape of the output tensor.\n",
            "        Can be a variable number of arguments or a collection like a list or tuple.\n",
            "\n",
            "Keyword arguments:\n",
            "    out (Tensor, optional): the output tensor.\n",
            "    dtype (:class:`torch.dtype`, optional): the desired data type of returned tensor.\n",
            "        Default: if ``None``, uses a global default (see :func:`torch.set_default_dtype`).\n",
            "    layout (:class:`torch.layout`, optional): the desired layout of returned Tensor.\n",
            "        Default: ``torch.strided``.\n",
            "    device (:class:`torch.device`, optional): the desired device of returned tensor.\n",
            "        Default: if ``None``, uses the current device for the default tensor type\n",
            "        (see :func:`torch.set_default_device`). :attr:`device` will be the CPU\n",
            "        for CPU tensor types and the current CUDA device for CUDA tensor types.\n",
            "    requires_grad (bool, optional): If autograd should record operations on the\n",
            "        returned tensor. Default: ``False``.\n",
            "\n",
            "Example::\n",
            "\n",
            "    >>> torch.ones(2, 3)\n",
            "    tensor([[ 1.,  1.,  1.],\n",
            "            [ 1.,  1.,  1.]])\n",
            "\n",
            "    >>> torch.ones(5)\n",
            "    tensor([ 1.,  1.,  1.,  1.,  1.])\n",
            "\n",
            "\n"
          ]
        }
      ]
    },
    {
      "cell_type": "code",
      "source": [
        "one_likes = th.ones_like(data)\n",
        "print(one_likes)\n",
        "print(one_likes.shape)\n",
        "print(one_likes.ndim)"
      ],
      "metadata": {
        "colab": {
          "base_uri": "https://localhost:8080/"
        },
        "id": "7cSb_iavqfM9",
        "outputId": "585bf0b7-44e1-48cb-ec44-6d36f83ee415"
      },
      "execution_count": 10,
      "outputs": [
        {
          "output_type": "stream",
          "name": "stdout",
          "text": [
            "tensor([[[1., 1., 1., 1., 1.],\n",
            "         [1., 1., 1., 1., 1.],\n",
            "         [1., 1., 1., 1., 1.]],\n",
            "\n",
            "        [[1., 1., 1., 1., 1.],\n",
            "         [1., 1., 1., 1., 1.],\n",
            "         [1., 1., 1., 1., 1.]]])\n",
            "torch.Size([2, 3, 5])\n",
            "3\n"
          ]
        }
      ]
    },
    {
      "cell_type": "code",
      "source": [
        "print(th.ones_like.__doc__)"
      ],
      "metadata": {
        "colab": {
          "base_uri": "https://localhost:8080/"
        },
        "id": "eWpabcd5rnKG",
        "outputId": "5e4de49e-6e10-4b7d-83b3-85683131f40e"
      },
      "execution_count": 11,
      "outputs": [
        {
          "output_type": "stream",
          "name": "stdout",
          "text": [
            "\n",
            "ones_like(input, *, dtype=None, layout=None, device=None, requires_grad=False, memory_format=torch.preserve_format) -> Tensor\n",
            "\n",
            "Returns a tensor filled with the scalar value `1`, with the same size as\n",
            ":attr:`input`. ``torch.ones_like(input)`` is equivalent to\n",
            "``torch.ones(input.size(), dtype=input.dtype, layout=input.layout, device=input.device)``.\n",
            "\n",
            ".. warning::\n",
            "    As of 0.4, this function does not support an :attr:`out` keyword. As an alternative,\n",
            "    the old ``torch.ones_like(input, out=output)`` is equivalent to\n",
            "    ``torch.ones(input.size(), out=output)``.\n",
            "\n",
            "Args:\n",
            "    input (Tensor): the size of :attr:`input` will determine size of the output tensor.\n",
            "\n",
            "Keyword arguments:\n",
            "    dtype (:class:`torch.dtype`, optional): the desired data type of returned Tensor.\n",
            "        Default: if ``None``, defaults to the dtype of :attr:`input`.\n",
            "    layout (:class:`torch.layout`, optional): the desired layout of returned tensor.\n",
            "        Default: if ``None``, defaults to the layout of :attr:`input`.\n",
            "    device (:class:`torch.device`, optional): the desired device of returned tensor.\n",
            "        Default: if ``None``, defaults to the device of :attr:`input`.\n",
            "    requires_grad (bool, optional): If autograd should record operations on the\n",
            "        returned tensor. Default: ``False``.\n",
            "    memory_format (:class:`torch.memory_format`, optional): the desired memory format of\n",
            "        returned Tensor. Default: ``torch.preserve_format``.\n",
            "\n",
            "Example::\n",
            "\n",
            "    >>> input = torch.empty(2, 3)\n",
            "    >>> torch.ones_like(input)\n",
            "    tensor([[ 1.,  1.,  1.],\n",
            "            [ 1.,  1.,  1.]])\n",
            "\n"
          ]
        }
      ]
    },
    {
      "cell_type": "code",
      "source": [],
      "metadata": {
        "id": "OZ_m24_3ruFA"
      },
      "execution_count": 11,
      "outputs": []
    }
  ]
}