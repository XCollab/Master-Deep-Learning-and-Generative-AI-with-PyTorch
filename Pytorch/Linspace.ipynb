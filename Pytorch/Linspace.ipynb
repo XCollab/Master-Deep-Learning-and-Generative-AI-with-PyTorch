{
  "nbformat": 4,
  "nbformat_minor": 0,
  "metadata": {
    "colab": {
      "provenance": []
    },
    "kernelspec": {
      "name": "python3",
      "display_name": "Python 3"
    },
    "language_info": {
      "name": "python"
    }
  },
  "cells": [
    {
      "cell_type": "code",
      "execution_count": 1,
      "metadata": {
        "colab": {
          "base_uri": "https://localhost:8080/",
          "height": 35
        },
        "id": "GawddwK0vLEe",
        "outputId": "740d266c-d6e1-4f02-b5d1-c59332674d70"
      },
      "outputs": [
        {
          "output_type": "execute_result",
          "data": {
            "text/plain": [
              "'2.5.1+cu124'"
            ],
            "application/vnd.google.colaboratory.intrinsic+json": {
              "type": "string"
            }
          },
          "metadata": {},
          "execution_count": 1
        }
      ],
      "source": [
        "import torch\n",
        "torch.__version__"
      ]
    },
    {
      "cell_type": "markdown",
      "source": [
        "#### ***LinSpace:***"
      ],
      "metadata": {
        "id": "MmLW2hpMx3LA"
      }
    },
    {
      "cell_type": "code",
      "source": [
        "print(torch.linspace.__doc__)"
      ],
      "metadata": {
        "id": "DkmzMsWax14x",
        "colab": {
          "base_uri": "https://localhost:8080/"
        },
        "outputId": "82d098ec-822c-4820-da10-8b8a08a28282"
      },
      "execution_count": 2,
      "outputs": [
        {
          "output_type": "stream",
          "name": "stdout",
          "text": [
            "\n",
            "linspace(start, end, steps, *, out=None, dtype=None, layout=torch.strided, device=None, requires_grad=False) -> Tensor\n",
            "\n",
            "Creates a one-dimensional tensor of size :attr:`steps` whose values are evenly\n",
            "spaced from :attr:`start` to :attr:`end`, inclusive. That is, the value are:\n",
            "\n",
            ".. math::\n",
            "    (\\text{start},\n",
            "    \\text{start} + \\frac{\\text{end} - \\text{start}}{\\text{steps} - 1},\n",
            "    \\ldots,\n",
            "    \\text{start} + (\\text{steps} - 2) * \\frac{\\text{end} - \\text{start}}{\\text{steps} - 1},\n",
            "    \\text{end})\n",
            "\n",
            "\n",
            "From PyTorch 1.11 linspace requires the steps argument. Use steps=100 to restore the previous behavior.\n",
            "\n",
            "Args:\n",
            "    start (float or Tensor): the starting value for the set of points. If `Tensor`, it must be 0-dimensional\n",
            "    end (float or Tensor): the ending value for the set of points. If `Tensor`, it must be 0-dimensional\n",
            "    steps (int): size of the constructed tensor\n",
            "\n",
            "Keyword arguments:\n",
            "    out (Tensor, optional): the output tensor.\n",
            "    dtype (torch.dtype, optional): the data type to perform the computation in.\n",
            "        Default: if None, uses the global default dtype (see torch.get_default_dtype())\n",
            "        when both :attr:`start` and :attr:`end` are real,\n",
            "        and corresponding complex dtype when either is complex.\n",
            "    layout (:class:`torch.layout`, optional): the desired layout of returned Tensor.\n",
            "        Default: ``torch.strided``.\n",
            "    device (:class:`torch.device`, optional): the desired device of returned tensor.\n",
            "        Default: if ``None``, uses the current device for the default tensor type\n",
            "        (see :func:`torch.set_default_device`). :attr:`device` will be the CPU\n",
            "        for CPU tensor types and the current CUDA device for CUDA tensor types.\n",
            "    requires_grad (bool, optional): If autograd should record operations on the\n",
            "        returned tensor. Default: ``False``.\n",
            "\n",
            "\n",
            "Example::\n",
            "\n",
            "    >>> torch.linspace(3, 10, steps=5)\n",
            "    tensor([  3.0000,   4.7500,   6.5000,   8.2500,  10.0000])\n",
            "    >>> torch.linspace(-10, 10, steps=5)\n",
            "    tensor([-10.,  -5.,   0.,   5.,  10.])\n",
            "    >>> torch.linspace(start=-10, end=10, steps=5)\n",
            "    tensor([-10.,  -5.,   0.,   5.,  10.])\n",
            "    >>> torch.linspace(start=-10, end=10, steps=1)\n",
            "    tensor([-10.])\n",
            "\n"
          ]
        }
      ]
    },
    {
      "cell_type": "code",
      "source": [
        "linear_space = torch.linspace(start=1, end=10, steps=5)\n",
        "print(linear_space)\n",
        "print(linear_space.dtype)\n",
        "print(linear_space.shape)\n",
        "print(linear_space.ndim)"
      ],
      "metadata": {
        "colab": {
          "base_uri": "https://localhost:8080/"
        },
        "id": "fIkttE4b-OXp",
        "outputId": "e5df635a-fc37-4907-d474-5a76c88c865f"
      },
      "execution_count": 6,
      "outputs": [
        {
          "output_type": "stream",
          "name": "stdout",
          "text": [
            "tensor([ 1.0000,  3.2500,  5.5000,  7.7500, 10.0000])\n",
            "torch.float32\n",
            "torch.Size([5])\n",
            "1\n"
          ]
        }
      ]
    },
    {
      "cell_type": "code",
      "source": [
        "linear_space = torch.linspace(start=10, end=20, steps=3)\n",
        "print(linear_space)\n",
        "print(linear_space.dtype)\n",
        "print(linear_space.shape)\n",
        "print(linear_space.ndim)"
      ],
      "metadata": {
        "colab": {
          "base_uri": "https://localhost:8080/"
        },
        "id": "NOsoliNJ-av9",
        "outputId": "922ba5aa-7706-491f-c2de-5b9e2bfebdff"
      },
      "execution_count": 7,
      "outputs": [
        {
          "output_type": "stream",
          "name": "stdout",
          "text": [
            "tensor([10., 15., 20.])\n",
            "torch.float32\n",
            "torch.Size([3])\n",
            "1\n"
          ]
        }
      ]
    },
    {
      "cell_type": "code",
      "source": [],
      "metadata": {
        "id": "CJAFaz-k-mA9"
      },
      "execution_count": null,
      "outputs": []
    }
  ]
}